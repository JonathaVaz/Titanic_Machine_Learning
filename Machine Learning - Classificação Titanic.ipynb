{
 "cells": [
  {
   "cell_type": "markdown",
   "metadata": {},
   "source": [
    "# ***Machine Learning - Classificação de Sobreviventes do Titanic***\n",
    "\n",
    "### **Descrição do Projeto:**\n",
    "\n",
    "#### **Projeto de Machine Learning (Aprendizado de Máquina) para Classificação de Sobreviventes Tripulantes do Navio Titanic. Trabalhando com dados estruturados em Python, visando a classificação dentro do mundo da Inteligencia Artificial.**\n",
    "\n",
    "### **Data : 10/04/2024  -  10/04/2024**\n",
    "### **Autor : Jonatha Rodrigues T. Vaz**\n",
    "### **Email : jonatharodriguestenoriovaz822@gmail.com**\n",
    "### **GitHub : https://github.com/JonathaVaz**"
   ]
  },
  {
   "cell_type": "markdown",
   "metadata": {},
   "source": [
    "## ***Definições das Colunas Titanic:***\n",
    "\n",
    "### **Pclass = Classe do Passageiro (1 - Primeira, 2 - Segunda, 3 - Terceira)**\n",
    "### **Survived = Sobreviveu (0 - Não, 1 - Sim)**\n",
    "### **Name = Nome**\n",
    "### **Sex = Sexo** \n",
    "### **Age = Idade**\n",
    "### **SibSp = Número de Irmaõs/Esposa(o) a bordo**\n",
    "### **Parch = Número de pais/filhos a bordo**\n",
    "### **Ticket = Número da Passagem** \n",
    "### **Fare = Preço da Passagem** \n",
    "### **Cabin = Cabine**\n",
    "### **Embarked = Local em que o Passageiro Embarcou (C - Cherbourg, Q - Queenstown, S - Southampton)**\n",
    "### **Boat = Bote de Salva-Vidas**\n",
    "### **Body = Número de Identificação do Corpo**\n",
    "### **Home.Dest = Lar/Destino**"
   ]
  },
  {
   "cell_type": "markdown",
   "metadata": {},
   "source": [
    "## **Iniciando**"
   ]
  },
  {
   "cell_type": "markdown",
   "metadata": {},
   "source": [
    "## **Instalando Bibliotecas Necessárias**"
   ]
  },
  {
   "cell_type": "code",
   "execution_count": 6,
   "metadata": {},
   "outputs": [
    {
     "name": "stdout",
     "output_type": "stream",
     "text": [
      "Collecting dtreeviz\n",
      "  Downloading dtreeviz-2.2.2-py3-none-any.whl (91 kB)\n",
      "                                              0.0/91.8 kB ? eta -:--:--\n",
      "     ---------------------------------------- 91.8/91.8 kB 5.1 MB/s eta 0:00:00\n",
      "Collecting graphviz>=0.9 (from dtreeviz)\n",
      "  Downloading graphviz-0.20.3-py3-none-any.whl (47 kB)\n",
      "                                              0.0/47.1 kB ? eta -:--:--\n",
      "     ---------------------------------------- 47.1/47.1 kB ? eta 0:00:00\n",
      "Requirement already satisfied: pandas in c:\\users\\pichau\\anaconda3\\lib\\site-packages (from dtreeviz) (1.5.3)\n",
      "Requirement already satisfied: numpy in c:\\users\\pichau\\anaconda3\\lib\\site-packages (from dtreeviz) (1.23.5)\n",
      "Requirement already satisfied: scikit-learn in c:\\users\\pichau\\anaconda3\\lib\\site-packages (from dtreeviz) (1.2.2)\n",
      "Requirement already satisfied: matplotlib in c:\\users\\pichau\\anaconda3\\lib\\site-packages (from dtreeviz) (3.7.1)\n",
      "Collecting colour (from dtreeviz)\n",
      "  Downloading colour-0.1.5-py2.py3-none-any.whl (23 kB)\n",
      "Requirement already satisfied: pytest in c:\\users\\pichau\\anaconda3\\lib\\site-packages (from dtreeviz) (7.3.1)\n",
      "Requirement already satisfied: contourpy>=1.0.1 in c:\\users\\pichau\\anaconda3\\lib\\site-packages (from matplotlib->dtreeviz) (1.0.5)\n",
      "Requirement already satisfied: cycler>=0.10 in c:\\users\\pichau\\anaconda3\\lib\\site-packages (from matplotlib->dtreeviz) (0.11.0)\n",
      "Requirement already satisfied: fonttools>=4.22.0 in c:\\users\\pichau\\anaconda3\\lib\\site-packages (from matplotlib->dtreeviz) (4.25.0)\n",
      "Requirement already satisfied: kiwisolver>=1.0.1 in c:\\users\\pichau\\anaconda3\\lib\\site-packages (from matplotlib->dtreeviz) (1.4.4)\n",
      "Requirement already satisfied: packaging>=20.0 in c:\\users\\pichau\\anaconda3\\lib\\site-packages (from matplotlib->dtreeviz) (23.0)\n",
      "Requirement already satisfied: pillow>=6.2.0 in c:\\users\\pichau\\anaconda3\\lib\\site-packages (from matplotlib->dtreeviz) (9.4.0)\n",
      "Requirement already satisfied: pyparsing>=2.3.1 in c:\\users\\pichau\\anaconda3\\lib\\site-packages (from matplotlib->dtreeviz) (3.0.9)\n",
      "Requirement already satisfied: python-dateutil>=2.7 in c:\\users\\pichau\\anaconda3\\lib\\site-packages (from matplotlib->dtreeviz) (2.8.2)\n",
      "Requirement already satisfied: importlib-resources>=3.2.0 in c:\\users\\pichau\\anaconda3\\lib\\site-packages (from matplotlib->dtreeviz) (5.2.0)\n",
      "Requirement already satisfied: pytz>=2020.1 in c:\\users\\pichau\\anaconda3\\lib\\site-packages (from pandas->dtreeviz) (2022.7)\n",
      "Requirement already satisfied: iniconfig in c:\\users\\pichau\\anaconda3\\lib\\site-packages (from pytest->dtreeviz) (1.1.1)\n",
      "Requirement already satisfied: pluggy<2.0,>=0.12 in c:\\users\\pichau\\anaconda3\\lib\\site-packages (from pytest->dtreeviz) (1.0.0)\n",
      "Requirement already satisfied: exceptiongroup>=1.0.0rc8 in c:\\users\\pichau\\anaconda3\\lib\\site-packages (from pytest->dtreeviz) (1.0.4)\n",
      "Requirement already satisfied: tomli>=1.0.0 in c:\\users\\pichau\\anaconda3\\lib\\site-packages (from pytest->dtreeviz) (2.0.1)\n",
      "Requirement already satisfied: colorama in c:\\users\\pichau\\anaconda3\\lib\\site-packages (from pytest->dtreeviz) (0.4.6)\n",
      "Requirement already satisfied: scipy>=1.3.2 in c:\\users\\pichau\\anaconda3\\lib\\site-packages (from scikit-learn->dtreeviz) (1.10.1)\n",
      "Requirement already satisfied: joblib>=1.1.1 in c:\\users\\pichau\\anaconda3\\lib\\site-packages (from scikit-learn->dtreeviz) (1.2.0)\n",
      "Requirement already satisfied: threadpoolctl>=2.0.0 in c:\\users\\pichau\\anaconda3\\lib\\site-packages (from scikit-learn->dtreeviz) (2.2.0)\n",
      "Requirement already satisfied: zipp>=3.1.0 in c:\\users\\pichau\\anaconda3\\lib\\site-packages (from importlib-resources>=3.2.0->matplotlib->dtreeviz) (3.11.0)\n",
      "Requirement already satisfied: six>=1.5 in c:\\users\\pichau\\anaconda3\\lib\\site-packages (from python-dateutil>=2.7->matplotlib->dtreeviz) (1.16.0)\n",
      "Installing collected packages: colour, graphviz, dtreeviz\n",
      "Successfully installed colour-0.1.5 dtreeviz-2.2.2 graphviz-0.20.3\n",
      "Note: you may need to restart the kernel to use updated packages.\n"
     ]
    }
   ],
   "source": [
    "%pip install dtreeviz"
   ]
  },
  {
   "cell_type": "code",
   "execution_count": 12,
   "metadata": {},
   "outputs": [
    {
     "name": "stdout",
     "output_type": "stream",
     "text": [
      "Collecting fastai\n",
      "  Downloading fastai-2.7.14-py3-none-any.whl (232 kB)\n",
      "                                              0.0/232.2 kB ? eta -:--:--\n",
      "     -------------------------------------- 232.2/232.2 kB 7.2 MB/s eta 0:00:00\n",
      "Requirement already satisfied: pip in c:\\users\\pichau\\anaconda3\\lib\\site-packages (from fastai) (23.1.2)\n",
      "Requirement already satisfied: packaging in c:\\users\\pichau\\anaconda3\\lib\\site-packages (from fastai) (23.0)\n",
      "Collecting fastdownload<2,>=0.0.5 (from fastai)\n",
      "  Downloading fastdownload-0.0.7-py3-none-any.whl (12 kB)\n",
      "Collecting fastcore<1.6,>=1.5.29 (from fastai)\n",
      "  Downloading fastcore-1.5.29-py3-none-any.whl (67 kB)\n",
      "                                              0.0/67.6 kB ? eta -:--:--\n",
      "     ---------------------------------------- 67.6/67.6 kB ? eta 0:00:00\n",
      "Collecting torchvision>=0.11 (from fastai)\n",
      "  Downloading torchvision-0.17.2-cp39-cp39-win_amd64.whl (1.2 MB)\n",
      "                                              0.0/1.2 MB ? eta -:--:--\n",
      "     ---------------------------------------- 1.2/1.2 MB 37.3 MB/s eta 0:00:00\n",
      "Requirement already satisfied: matplotlib in c:\\users\\pichau\\anaconda3\\lib\\site-packages (from fastai) (3.7.1)\n",
      "Requirement already satisfied: pandas in c:\\users\\pichau\\anaconda3\\lib\\site-packages (from fastai) (1.5.3)\n",
      "Requirement already satisfied: requests in c:\\users\\pichau\\anaconda3\\lib\\site-packages (from fastai) (2.29.0)\n",
      "Requirement already satisfied: pyyaml in c:\\users\\pichau\\anaconda3\\lib\\site-packages (from fastai) (6.0)\n",
      "Collecting fastprogress>=0.2.4 (from fastai)\n",
      "  Downloading fastprogress-1.0.3-py3-none-any.whl (12 kB)\n",
      "Requirement already satisfied: pillow>=9.0.0 in c:\\users\\pichau\\anaconda3\\lib\\site-packages (from fastai) (9.4.0)\n",
      "Requirement already satisfied: scikit-learn in c:\\users\\pichau\\anaconda3\\lib\\site-packages (from fastai) (1.2.2)\n",
      "Requirement already satisfied: scipy in c:\\users\\pichau\\anaconda3\\lib\\site-packages (from fastai) (1.10.1)\n",
      "Requirement already satisfied: spacy<4 in c:\\users\\pichau\\anaconda3\\lib\\site-packages (from fastai) (3.5.3)\n",
      "Requirement already satisfied: torch<2.3,>=1.10 in c:\\users\\pichau\\anaconda3\\lib\\site-packages (from fastai) (1.12.1)\n",
      "Requirement already satisfied: spacy-legacy<3.1.0,>=3.0.11 in c:\\users\\pichau\\anaconda3\\lib\\site-packages (from spacy<4->fastai) (3.0.12)\n",
      "Requirement already satisfied: spacy-loggers<2.0.0,>=1.0.0 in c:\\users\\pichau\\anaconda3\\lib\\site-packages (from spacy<4->fastai) (1.0.4)\n",
      "Requirement already satisfied: murmurhash<1.1.0,>=0.28.0 in c:\\users\\pichau\\anaconda3\\lib\\site-packages (from spacy<4->fastai) (1.0.9)\n",
      "Requirement already satisfied: cymem<2.1.0,>=2.0.2 in c:\\users\\pichau\\anaconda3\\lib\\site-packages (from spacy<4->fastai) (2.0.7)\n",
      "Requirement already satisfied: preshed<3.1.0,>=3.0.2 in c:\\users\\pichau\\anaconda3\\lib\\site-packages (from spacy<4->fastai) (3.0.8)\n",
      "Requirement already satisfied: thinc<8.2.0,>=8.1.8 in c:\\users\\pichau\\anaconda3\\lib\\site-packages (from spacy<4->fastai) (8.1.10)\n",
      "Requirement already satisfied: wasabi<1.2.0,>=0.9.1 in c:\\users\\pichau\\anaconda3\\lib\\site-packages (from spacy<4->fastai) (1.1.2)\n",
      "Requirement already satisfied: srsly<3.0.0,>=2.4.3 in c:\\users\\pichau\\anaconda3\\lib\\site-packages (from spacy<4->fastai) (2.4.6)\n",
      "Requirement already satisfied: catalogue<2.1.0,>=2.0.6 in c:\\users\\pichau\\anaconda3\\lib\\site-packages (from spacy<4->fastai) (2.0.8)\n",
      "Requirement already satisfied: typer<0.8.0,>=0.3.0 in c:\\users\\pichau\\anaconda3\\lib\\site-packages (from spacy<4->fastai) (0.7.0)\n",
      "Requirement already satisfied: pathy>=0.10.0 in c:\\users\\pichau\\anaconda3\\lib\\site-packages (from spacy<4->fastai) (0.10.1)\n",
      "Requirement already satisfied: smart-open<7.0.0,>=5.2.1 in c:\\users\\pichau\\anaconda3\\lib\\site-packages (from spacy<4->fastai) (5.2.1)\n",
      "Requirement already satisfied: tqdm<5.0.0,>=4.38.0 in c:\\users\\pichau\\anaconda3\\lib\\site-packages (from spacy<4->fastai) (4.65.0)\n",
      "Requirement already satisfied: numpy>=1.15.0 in c:\\users\\pichau\\anaconda3\\lib\\site-packages (from spacy<4->fastai) (1.23.5)\n",
      "Collecting pydantic!=1.8,!=1.8.1,<1.11.0,>=1.7.4 (from spacy<4->fastai)\n",
      "  Downloading pydantic-1.10.15-cp39-cp39-win_amd64.whl (2.2 MB)\n",
      "                                              0.0/2.2 MB ? eta -:--:--\n",
      "     ---------------------------------------- 2.2/2.2 MB 46.8 MB/s eta 0:00:00\n",
      "Requirement already satisfied: jinja2 in c:\\users\\pichau\\anaconda3\\lib\\site-packages (from spacy<4->fastai) (3.1.2)\n",
      "Requirement already satisfied: setuptools in c:\\users\\pichau\\anaconda3\\lib\\site-packages (from spacy<4->fastai) (67.8.0)\n",
      "Requirement already satisfied: langcodes<4.0.0,>=3.2.0 in c:\\users\\pichau\\anaconda3\\lib\\site-packages (from spacy<4->fastai) (3.3.0)\n",
      "Requirement already satisfied: charset-normalizer<4,>=2 in c:\\users\\pichau\\anaconda3\\lib\\site-packages (from requests->fastai) (2.0.4)\n",
      "Requirement already satisfied: idna<4,>=2.5 in c:\\users\\pichau\\anaconda3\\lib\\site-packages (from requests->fastai) (3.4)\n",
      "Requirement already satisfied: urllib3<1.27,>=1.21.1 in c:\\users\\pichau\\anaconda3\\lib\\site-packages (from requests->fastai) (1.26.16)\n",
      "Requirement already satisfied: certifi>=2017.4.17 in c:\\users\\pichau\\anaconda3\\lib\\site-packages (from requests->fastai) (2023.5.7)\n",
      "Requirement already satisfied: typing_extensions in c:\\users\\pichau\\anaconda3\\lib\\site-packages (from torch<2.3,>=1.10->fastai) (4.9.0)\n",
      "Collecting torch<2.3,>=1.10 (from fastai)\n",
      "  Downloading torch-2.2.2-cp39-cp39-win_amd64.whl (198.5 MB)\n",
      "                                              0.0/198.5 MB ? eta -:--:--\n",
      "                                            4.3/198.5 MB 139.4 MB/s eta 0:00:02\n",
      "     -                                       8.9/198.5 MB 96.1 MB/s eta 0:00:02\n",
      "     --                                     13.2/198.5 MB 93.9 MB/s eta 0:00:02\n",
      "     ---                                    17.2/198.5 MB 81.8 MB/s eta 0:00:03\n",
      "     ----                                   21.4/198.5 MB 81.8 MB/s eta 0:00:03\n",
      "     ----                                   25.7/198.5 MB 81.8 MB/s eta 0:00:03\n",
      "     -----                                  29.9/198.5 MB 81.8 MB/s eta 0:00:03\n",
      "     ------                                 34.3/198.5 MB 81.8 MB/s eta 0:00:03\n",
      "     -------                                38.5/198.5 MB 93.0 MB/s eta 0:00:02\n",
      "     --------                               42.6/198.5 MB 81.8 MB/s eta 0:00:02\n",
      "     --------                               46.7/198.5 MB 81.8 MB/s eta 0:00:02\n",
      "     ---------                              50.8/198.5 MB 81.8 MB/s eta 0:00:02\n",
      "     ----------                             55.0/198.5 MB 81.8 MB/s eta 0:00:02\n",
      "     -----------                            59.2/198.5 MB 81.8 MB/s eta 0:00:02\n",
      "     ------------                           63.4/198.5 MB 93.0 MB/s eta 0:00:02\n",
      "     ------------                           67.7/198.5 MB 93.0 MB/s eta 0:00:02\n",
      "     -------------                          72.2/198.5 MB 93.0 MB/s eta 0:00:02\n",
      "     --------------                         76.5/198.5 MB 93.9 MB/s eta 0:00:02\n",
      "     ---------------                        80.9/198.5 MB 93.9 MB/s eta 0:00:02\n",
      "     ----------------                       85.2/198.5 MB 93.9 MB/s eta 0:00:02\n",
      "     -----------------                      89.6/198.5 MB 93.9 MB/s eta 0:00:02\n",
      "     ------------------                     94.1/198.5 MB 93.9 MB/s eta 0:00:02\n",
      "     ------------------                     98.5/198.5 MB 93.0 MB/s eta 0:00:02\n",
      "     -------------------                   103.0/198.5 MB 93.0 MB/s eta 0:00:02\n",
      "     --------------------                  107.3/198.5 MB 93.0 MB/s eta 0:00:01\n",
      "     --------------------                  111.7/198.5 MB 93.9 MB/s eta 0:00:01\n",
      "     ---------------------                 116.2/198.5 MB 93.9 MB/s eta 0:00:01\n",
      "     ----------------------                120.8/198.5 MB 93.9 MB/s eta 0:00:01\n",
      "     -----------------------               125.3/198.5 MB 93.9 MB/s eta 0:00:01\n",
      "     ------------------------              129.8/198.5 MB 93.9 MB/s eta 0:00:01\n",
      "     -------------------------             134.3/198.5 MB 93.0 MB/s eta 0:00:01\n",
      "     -------------------------             138.8/198.5 MB 93.0 MB/s eta 0:00:01\n",
      "     --------------------------            143.4/198.5 MB 93.0 MB/s eta 0:00:01\n",
      "     ---------------------------           148.0/198.5 MB 93.9 MB/s eta 0:00:01\n",
      "     ----------------------------          152.6/198.5 MB 93.9 MB/s eta 0:00:01\n",
      "     ----------------------------          154.2/198.5 MB 73.1 MB/s eta 0:00:01\n",
      "     ----------------------------          155.5/198.5 MB 59.5 MB/s eta 0:00:01\n",
      "     -----------------------------         158.0/198.5 MB 54.4 MB/s eta 0:00:01\n",
      "     -----------------------------         159.6/198.5 MB 46.7 MB/s eta 0:00:01\n",
      "     ------------------------------        161.1/198.5 MB 40.9 MB/s eta 0:00:01\n",
      "     ------------------------------        162.8/198.5 MB 36.3 MB/s eta 0:00:01\n",
      "     ------------------------------        164.4/198.5 MB 36.4 MB/s eta 0:00:01\n",
      "     ------------------------------        166.0/198.5 MB 36.4 MB/s eta 0:00:01\n",
      "     -------------------------------       167.6/198.5 MB 34.4 MB/s eta 0:00:01\n",
      "     -------------------------------       169.2/198.5 MB 34.4 MB/s eta 0:00:01\n",
      "     -------------------------------       170.8/198.5 MB 34.4 MB/s eta 0:00:01\n",
      "     --------------------------------      172.4/198.5 MB 34.4 MB/s eta 0:00:01\n",
      "     --------------------------------      173.9/198.5 MB 32.7 MB/s eta 0:00:01\n",
      "     --------------------------------      175.7/198.5 MB 34.4 MB/s eta 0:00:01\n",
      "     ---------------------------------     177.5/198.5 MB 34.6 MB/s eta 0:00:01\n",
      "     ---------------------------------     179.3/198.5 MB 36.4 MB/s eta 0:00:01\n",
      "     ---------------------------------     181.0/198.5 MB 36.4 MB/s eta 0:00:01\n",
      "     ----------------------------------    182.7/198.5 MB 36.4 MB/s eta 0:00:01\n",
      "     ----------------------------------    184.5/198.5 MB 36.4 MB/s eta 0:00:01\n",
      "     ----------------------------------    186.4/198.5 MB 38.5 MB/s eta 0:00:01\n",
      "     -----------------------------------   188.4/198.5 MB 38.5 MB/s eta 0:00:01\n",
      "     -----------------------------------   190.2/198.5 MB 38.5 MB/s eta 0:00:01\n",
      "     -----------------------------------   192.2/198.5 MB 38.6 MB/s eta 0:00:01\n",
      "     ------------------------------------  194.0/198.5 MB 40.9 MB/s eta 0:00:01\n",
      "     ------------------------------------  195.9/198.5 MB 38.6 MB/s eta 0:00:01\n",
      "     ------------------------------------  197.8/198.5 MB 38.5 MB/s eta 0:00:01\n",
      "     ------------------------------------  198.5/198.5 MB 40.9 MB/s eta 0:00:01\n",
      "     ------------------------------------  198.5/198.5 MB 40.9 MB/s eta 0:00:01\n",
      "     ------------------------------------  198.5/198.5 MB 40.9 MB/s eta 0:00:01\n",
      "     ------------------------------------  198.5/198.5 MB 40.9 MB/s eta 0:00:01\n",
      "     ------------------------------------  198.5/198.5 MB 40.9 MB/s eta 0:00:01\n",
      "     ------------------------------------  198.5/198.5 MB 40.9 MB/s eta 0:00:01\n",
      "     ------------------------------------  198.5/198.5 MB 40.9 MB/s eta 0:00:01\n",
      "     ------------------------------------  198.5/198.5 MB 40.9 MB/s eta 0:00:01\n",
      "     ------------------------------------  198.5/198.5 MB 40.9 MB/s eta 0:00:01\n",
      "     ------------------------------------  198.5/198.5 MB 40.9 MB/s eta 0:00:01\n",
      "     ------------------------------------  198.5/198.5 MB 40.9 MB/s eta 0:00:01\n",
      "     ------------------------------------  198.5/198.5 MB 40.9 MB/s eta 0:00:01\n",
      "     ------------------------------------  198.5/198.5 MB 40.9 MB/s eta 0:00:01\n",
      "     ------------------------------------  198.5/198.5 MB 40.9 MB/s eta 0:00:01\n",
      "     ------------------------------------  198.5/198.5 MB 40.9 MB/s eta 0:00:01\n",
      "     ------------------------------------  198.5/198.5 MB 40.9 MB/s eta 0:00:01\n",
      "     ------------------------------------  198.5/198.5 MB 40.9 MB/s eta 0:00:01\n",
      "     ------------------------------------  198.5/198.5 MB 40.9 MB/s eta 0:00:01\n",
      "     ------------------------------------  198.5/198.5 MB 40.9 MB/s eta 0:00:01\n",
      "     ------------------------------------  198.5/198.5 MB 40.9 MB/s eta 0:00:01\n",
      "     ------------------------------------  198.5/198.5 MB 40.9 MB/s eta 0:00:01\n",
      "     ------------------------------------  198.5/198.5 MB 40.9 MB/s eta 0:00:01\n",
      "     ------------------------------------  198.5/198.5 MB 40.9 MB/s eta 0:00:01\n",
      "     ------------------------------------  198.5/198.5 MB 40.9 MB/s eta 0:00:01\n",
      "     ------------------------------------  198.5/198.5 MB 40.9 MB/s eta 0:00:01\n",
      "     ------------------------------------  198.5/198.5 MB 40.9 MB/s eta 0:00:01\n",
      "     -------------------------------------- 198.5/198.5 MB 6.4 MB/s eta 0:00:00\n",
      "Requirement already satisfied: filelock in c:\\users\\pichau\\anaconda3\\lib\\site-packages (from torch<2.3,>=1.10->fastai) (3.9.0)\n",
      "Requirement already satisfied: sympy in c:\\users\\pichau\\anaconda3\\lib\\site-packages (from torch<2.3,>=1.10->fastai) (1.11.1)\n",
      "Requirement already satisfied: networkx in c:\\users\\pichau\\anaconda3\\lib\\site-packages (from torch<2.3,>=1.10->fastai) (2.8.4)\n",
      "Requirement already satisfied: fsspec in c:\\users\\pichau\\anaconda3\\lib\\site-packages (from torch<2.3,>=1.10->fastai) (2023.4.0)\n",
      "Requirement already satisfied: contourpy>=1.0.1 in c:\\users\\pichau\\anaconda3\\lib\\site-packages (from matplotlib->fastai) (1.0.5)\n",
      "Requirement already satisfied: cycler>=0.10 in c:\\users\\pichau\\anaconda3\\lib\\site-packages (from matplotlib->fastai) (0.11.0)\n",
      "Requirement already satisfied: fonttools>=4.22.0 in c:\\users\\pichau\\anaconda3\\lib\\site-packages (from matplotlib->fastai) (4.25.0)\n",
      "Requirement already satisfied: kiwisolver>=1.0.1 in c:\\users\\pichau\\anaconda3\\lib\\site-packages (from matplotlib->fastai) (1.4.4)\n",
      "Requirement already satisfied: pyparsing>=2.3.1 in c:\\users\\pichau\\anaconda3\\lib\\site-packages (from matplotlib->fastai) (3.0.9)\n",
      "Requirement already satisfied: python-dateutil>=2.7 in c:\\users\\pichau\\anaconda3\\lib\\site-packages (from matplotlib->fastai) (2.8.2)\n",
      "Requirement already satisfied: importlib-resources>=3.2.0 in c:\\users\\pichau\\anaconda3\\lib\\site-packages (from matplotlib->fastai) (5.2.0)\n",
      "Requirement already satisfied: pytz>=2020.1 in c:\\users\\pichau\\anaconda3\\lib\\site-packages (from pandas->fastai) (2022.7)\n",
      "Requirement already satisfied: joblib>=1.1.1 in c:\\users\\pichau\\anaconda3\\lib\\site-packages (from scikit-learn->fastai) (1.2.0)\n",
      "Requirement already satisfied: threadpoolctl>=2.0.0 in c:\\users\\pichau\\anaconda3\\lib\\site-packages (from scikit-learn->fastai) (2.2.0)\n",
      "Requirement already satisfied: zipp>=3.1.0 in c:\\users\\pichau\\anaconda3\\lib\\site-packages (from importlib-resources>=3.2.0->matplotlib->fastai) (3.11.0)\n",
      "Requirement already satisfied: six>=1.5 in c:\\users\\pichau\\anaconda3\\lib\\site-packages (from python-dateutil>=2.7->matplotlib->fastai) (1.16.0)\n",
      "Requirement already satisfied: blis<0.8.0,>=0.7.8 in c:\\users\\pichau\\anaconda3\\lib\\site-packages (from thinc<8.2.0,>=8.1.8->spacy<4->fastai) (0.7.9)\n",
      "Requirement already satisfied: confection<1.0.0,>=0.0.1 in c:\\users\\pichau\\anaconda3\\lib\\site-packages (from thinc<8.2.0,>=8.1.8->spacy<4->fastai) (0.0.4)\n",
      "Requirement already satisfied: colorama in c:\\users\\pichau\\anaconda3\\lib\\site-packages (from tqdm<5.0.0,>=4.38.0->spacy<4->fastai) (0.4.6)\n",
      "Requirement already satisfied: click<9.0.0,>=7.1.1 in c:\\users\\pichau\\anaconda3\\lib\\site-packages (from typer<0.8.0,>=0.3.0->spacy<4->fastai) (8.0.4)\n",
      "Requirement already satisfied: MarkupSafe>=2.0 in c:\\users\\pichau\\anaconda3\\lib\\site-packages (from jinja2->spacy<4->fastai) (2.0.1)\n",
      "Requirement already satisfied: mpmath>=0.19 in c:\\users\\pichau\\anaconda3\\lib\\site-packages (from sympy->torch<2.3,>=1.10->fastai) (1.2.1)\n",
      "Installing collected packages: pydantic, fastprogress, fastcore, torch, fastdownload, torchvision, fastai\n",
      "  Attempting uninstall: pydantic\n",
      "    Found existing installation: pydantic 2.5.3\n",
      "    Uninstalling pydantic-2.5.3:\n",
      "      Successfully uninstalled pydantic-2.5.3\n",
      "  Attempting uninstall: torch\n",
      "    Found existing installation: torch 1.12.1\n",
      "    Uninstalling torch-1.12.1:\n",
      "      Successfully uninstalled torch-1.12.1\n",
      "Successfully installed fastai-2.7.14 fastcore-1.5.29 fastdownload-0.0.7 fastprogress-1.0.3 pydantic-1.10.15 torch-2.0.1 torchvision-0.17.2\n",
      "Note: you may need to restart the kernel to use updated packages.\n"
     ]
    },
    {
     "name": "stderr",
     "output_type": "stream",
     "text": [
      "ERROR: pip's dependency resolver does not currently take into account all the packages that are installed. This behaviour is the source of the following dependency conflicts.\n",
      "ydata-profiling 4.6.3 requires pydantic>=2, but you have pydantic 1.10.15 which is incompatible.\n"
     ]
    }
   ],
   "source": [
    "%pip install fastai"
   ]
  },
  {
   "cell_type": "code",
   "execution_count": 60,
   "metadata": {},
   "outputs": [
    {
     "name": "stdout",
     "output_type": "stream",
     "text": [
      "Collecting xlrd\n",
      "  Downloading xlrd-2.0.1-py2.py3-none-any.whl (96 kB)\n",
      "                                              0.0/96.5 kB ? eta -:--:--\n",
      "     ---------------------------------------- 96.5/96.5 kB 5.4 MB/s eta 0:00:00\n",
      "Installing collected packages: xlrd\n",
      "Successfully installed xlrd-2.0.1\n",
      "Note: you may need to restart the kernel to use updated packages.\n"
     ]
    }
   ],
   "source": [
    "%pip install xlrd "
   ]
  },
  {
   "cell_type": "code",
   "execution_count": 13,
   "metadata": {},
   "outputs": [
    {
     "name": "stdout",
     "output_type": "stream",
     "text": [
      "Collecting missingno\n",
      "  Downloading missingno-0.5.2-py3-none-any.whl (8.7 kB)\n",
      "Requirement already satisfied: numpy in c:\\users\\pichau\\anaconda3\\lib\\site-packages (from missingno) (1.23.5)\n",
      "Requirement already satisfied: matplotlib in c:\\users\\pichau\\anaconda3\\lib\\site-packages (from missingno) (3.7.1)\n",
      "Requirement already satisfied: scipy in c:\\users\\pichau\\anaconda3\\lib\\site-packages (from missingno) (1.10.1)\n",
      "Requirement already satisfied: seaborn in c:\\users\\pichau\\anaconda3\\lib\\site-packages (from missingno) (0.12.2)\n",
      "Requirement already satisfied: contourpy>=1.0.1 in c:\\users\\pichau\\anaconda3\\lib\\site-packages (from matplotlib->missingno) (1.0.5)\n",
      "Requirement already satisfied: cycler>=0.10 in c:\\users\\pichau\\anaconda3\\lib\\site-packages (from matplotlib->missingno) (0.11.0)\n",
      "Requirement already satisfied: fonttools>=4.22.0 in c:\\users\\pichau\\anaconda3\\lib\\site-packages (from matplotlib->missingno) (4.25.0)\n",
      "Requirement already satisfied: kiwisolver>=1.0.1 in c:\\users\\pichau\\anaconda3\\lib\\site-packages (from matplotlib->missingno) (1.4.4)\n",
      "Requirement already satisfied: packaging>=20.0 in c:\\users\\pichau\\anaconda3\\lib\\site-packages (from matplotlib->missingno) (23.0)\n",
      "Requirement already satisfied: pillow>=6.2.0 in c:\\users\\pichau\\anaconda3\\lib\\site-packages (from matplotlib->missingno) (9.4.0)\n",
      "Requirement already satisfied: pyparsing>=2.3.1 in c:\\users\\pichau\\anaconda3\\lib\\site-packages (from matplotlib->missingno) (3.0.9)\n",
      "Requirement already satisfied: python-dateutil>=2.7 in c:\\users\\pichau\\anaconda3\\lib\\site-packages (from matplotlib->missingno) (2.8.2)\n",
      "Requirement already satisfied: importlib-resources>=3.2.0 in c:\\users\\pichau\\anaconda3\\lib\\site-packages (from matplotlib->missingno) (5.2.0)\n",
      "Requirement already satisfied: pandas>=0.25 in c:\\users\\pichau\\anaconda3\\lib\\site-packages (from seaborn->missingno) (1.5.3)\n",
      "Requirement already satisfied: zipp>=3.1.0 in c:\\users\\pichau\\anaconda3\\lib\\site-packages (from importlib-resources>=3.2.0->matplotlib->missingno) (3.11.0)\n",
      "Requirement already satisfied: pytz>=2020.1 in c:\\users\\pichau\\anaconda3\\lib\\site-packages (from pandas>=0.25->seaborn->missingno) (2022.7)\n",
      "Requirement already satisfied: six>=1.5 in c:\\users\\pichau\\anaconda3\\lib\\site-packages (from python-dateutil>=2.7->matplotlib->missingno) (1.16.0)\n",
      "Installing collected packages: missingno\n",
      "Successfully installed missingno-0.5.2\n",
      "Note: you may need to restart the kernel to use updated packages.\n"
     ]
    }
   ],
   "source": [
    "%pip install missingno "
   ]
  },
  {
   "cell_type": "code",
   "execution_count": 14,
   "metadata": {},
   "outputs": [
    {
     "name": "stdout",
     "output_type": "stream",
     "text": [
      "Collecting catboost\n",
      "  Downloading catboost-1.2.3-cp39-cp39-win_amd64.whl (101.1 MB)\n",
      "                                              0.0/101.1 MB ? eta -:--:--\n",
      "                                             1.0/101.1 MB 22.5 MB/s eta 0:00:05\n",
      "                                             1.0/101.1 MB 22.5 MB/s eta 0:00:05\n",
      "                                             1.0/101.1 MB 22.5 MB/s eta 0:00:05\n",
      "                                              1.2/101.1 MB 6.6 MB/s eta 0:00:16\n",
      "                                              1.7/101.1 MB 7.1 MB/s eta 0:00:15\n",
      "                                              2.1/101.1 MB 8.3 MB/s eta 0:00:12\n",
      "                                              2.1/101.1 MB 8.3 MB/s eta 0:00:12\n",
      "                                              2.1/101.1 MB 8.3 MB/s eta 0:00:12\n",
      "                                              2.1/101.1 MB 8.3 MB/s eta 0:00:12\n",
      "     -                                        3.1/101.1 MB 6.7 MB/s eta 0:00:15\n",
      "     -                                        3.1/101.1 MB 6.7 MB/s eta 0:00:15\n",
      "     -                                        3.1/101.1 MB 6.7 MB/s eta 0:00:15\n",
      "     -                                        3.1/101.1 MB 6.7 MB/s eta 0:00:15\n",
      "     -                                        3.1/101.1 MB 6.7 MB/s eta 0:00:15\n",
      "     -                                        3.1/101.1 MB 6.7 MB/s eta 0:00:15\n",
      "     -                                        3.1/101.1 MB 6.7 MB/s eta 0:00:15\n",
      "     -                                        3.1/101.1 MB 6.7 MB/s eta 0:00:15\n",
      "     -                                        4.2/101.1 MB 5.0 MB/s eta 0:00:20\n",
      "     -                                        4.2/101.1 MB 5.0 MB/s eta 0:00:20\n",
      "     -                                        4.7/101.1 MB 5.0 MB/s eta 0:00:20\n",
      "     --                                       5.2/101.1 MB 5.6 MB/s eta 0:00:18\n",
      "     --                                       5.2/101.1 MB 5.6 MB/s eta 0:00:18\n",
      "     --                                       6.3/101.1 MB 6.1 MB/s eta 0:00:16\n",
      "     --                                       6.3/101.1 MB 6.1 MB/s eta 0:00:16\n",
      "     --                                       6.3/101.1 MB 6.1 MB/s eta 0:00:16\n",
      "     --                                       6.3/101.1 MB 6.1 MB/s eta 0:00:16\n",
      "     --                                       6.3/101.1 MB 6.1 MB/s eta 0:00:16\n",
      "     --                                       6.3/101.1 MB 6.1 MB/s eta 0:00:16\n",
      "     --                                       6.3/101.1 MB 6.1 MB/s eta 0:00:16\n",
      "     --                                       6.3/101.1 MB 6.1 MB/s eta 0:00:16\n",
      "     --                                       6.3/101.1 MB 6.1 MB/s eta 0:00:16\n",
      "     --                                       6.3/101.1 MB 6.1 MB/s eta 0:00:16\n",
      "     --                                       6.3/101.1 MB 6.1 MB/s eta 0:00:16\n",
      "     --                                       7.3/101.1 MB 4.7 MB/s eta 0:00:20\n",
      "     --                                       7.3/101.1 MB 4.7 MB/s eta 0:00:20\n",
      "     ---                                      8.4/101.1 MB 5.0 MB/s eta 0:00:19\n",
      "     ---                                      8.4/101.1 MB 5.0 MB/s eta 0:00:19\n",
      "     ---                                      8.4/101.1 MB 5.0 MB/s eta 0:00:19\n",
      "     ---                                      9.4/101.1 MB 5.2 MB/s eta 0:00:18\n",
      "     ---                                      9.4/101.1 MB 5.2 MB/s eta 0:00:18\n",
      "     ----                                    10.5/101.1 MB 5.5 MB/s eta 0:00:17\n",
      "     ----                                    10.5/101.1 MB 5.5 MB/s eta 0:00:17\n",
      "     ----                                    11.5/101.1 MB 5.7 MB/s eta 0:00:16\n",
      "     ----                                    11.5/101.1 MB 5.7 MB/s eta 0:00:16\n",
      "     ----                                    11.5/101.1 MB 5.7 MB/s eta 0:00:16\n",
      "     ----                                    11.5/101.1 MB 5.7 MB/s eta 0:00:16\n",
      "     ----                                    11.5/101.1 MB 5.7 MB/s eta 0:00:16\n",
      "     ----                                    11.5/101.1 MB 5.7 MB/s eta 0:00:16\n",
      "     ----                                    11.5/101.1 MB 5.7 MB/s eta 0:00:16\n",
      "     ----                                    11.8/101.1 MB 4.8 MB/s eta 0:00:19\n",
      "     ----                                    12.6/101.1 MB 5.4 MB/s eta 0:00:17\n",
      "     ----                                    12.6/101.1 MB 5.4 MB/s eta 0:00:17\n",
      "     ----                                    12.6/101.1 MB 5.4 MB/s eta 0:00:17\n",
      "     ----                                    12.6/101.1 MB 5.4 MB/s eta 0:00:17\n",
      "     ----                                    12.6/101.1 MB 5.4 MB/s eta 0:00:17\n",
      "     ----                                    12.6/101.1 MB 5.4 MB/s eta 0:00:17\n",
      "     ----                                    12.6/101.1 MB 5.4 MB/s eta 0:00:17\n",
      "     -----                                   13.6/101.1 MB 5.5 MB/s eta 0:00:17\n",
      "     -----                                   13.6/101.1 MB 5.5 MB/s eta 0:00:17\n",
      "     -----                                   14.0/101.1 MB 5.2 MB/s eta 0:00:17\n",
      "     -----                                   14.7/101.1 MB 5.5 MB/s eta 0:00:16\n",
      "     -----                                   14.7/101.1 MB 5.5 MB/s eta 0:00:16\n",
      "     -----                                   14.7/101.1 MB 5.5 MB/s eta 0:00:16\n",
      "     -----                                   14.7/101.1 MB 5.5 MB/s eta 0:00:16\n",
      "     ------                                  15.7/101.1 MB 5.2 MB/s eta 0:00:17\n",
      "     ------                                  15.7/101.1 MB 5.2 MB/s eta 0:00:17\n",
      "     ------                                  16.8/101.1 MB 6.5 MB/s eta 0:00:14\n",
      "     ------                                  16.8/101.1 MB 6.5 MB/s eta 0:00:14\n",
      "     ------                                  17.8/101.1 MB 6.5 MB/s eta 0:00:13\n",
      "     ------                                  17.8/101.1 MB 6.5 MB/s eta 0:00:13\n",
      "     ------                                  17.8/101.1 MB 6.5 MB/s eta 0:00:13\n",
      "     -------                                 19.9/101.1 MB 7.0 MB/s eta 0:00:12\n",
      "     -------                                 19.9/101.1 MB 7.0 MB/s eta 0:00:12\n",
      "     --------                                21.0/101.1 MB 7.0 MB/s eta 0:00:12\n",
      "     --------                                21.0/101.1 MB 7.0 MB/s eta 0:00:12\n",
      "     --------                                22.0/101.1 MB 8.5 MB/s eta 0:00:10\n",
      "     --------                                22.0/101.1 MB 8.5 MB/s eta 0:00:10\n",
      "     --------                               23.1/101.1 MB 10.9 MB/s eta 0:00:08\n",
      "     --------                               23.1/101.1 MB 10.9 MB/s eta 0:00:08\n",
      "     --------                               23.1/101.1 MB 10.9 MB/s eta 0:00:08\n",
      "     --------                               23.1/101.1 MB 10.9 MB/s eta 0:00:08\n",
      "     --------                               23.1/101.1 MB 10.9 MB/s eta 0:00:08\n",
      "     ---------                               24.1/101.1 MB 9.8 MB/s eta 0:00:08\n",
      "     ---------                               24.1/101.1 MB 9.8 MB/s eta 0:00:08\n",
      "     ---------                              25.2/101.1 MB 10.7 MB/s eta 0:00:08\n",
      "     ---------                              25.2/101.1 MB 10.7 MB/s eta 0:00:08\n",
      "     ---------                               25.6/101.1 MB 9.8 MB/s eta 0:00:08\n",
      "     ---------                              26.2/101.1 MB 10.7 MB/s eta 0:00:07\n",
      "     ---------                              26.2/101.1 MB 10.7 MB/s eta 0:00:07\n",
      "     ---------                              26.2/101.1 MB 10.7 MB/s eta 0:00:07\n",
      "     ---------                              26.2/101.1 MB 10.7 MB/s eta 0:00:07\n",
      "     ---------                              26.2/101.1 MB 10.7 MB/s eta 0:00:07\n",
      "     ---------                              26.2/101.1 MB 10.7 MB/s eta 0:00:07\n",
      "     ----------                              27.3/101.1 MB 8.8 MB/s eta 0:00:09\n",
      "     ----------                              27.3/101.1 MB 8.8 MB/s eta 0:00:09\n",
      "     ----------                              27.3/101.1 MB 8.8 MB/s eta 0:00:09\n",
      "     ----------                              27.3/101.1 MB 8.8 MB/s eta 0:00:09\n",
      "     ----------                              28.3/101.1 MB 8.3 MB/s eta 0:00:09\n",
      "     ----------                              28.3/101.1 MB 8.3 MB/s eta 0:00:09\n",
      "     -----------                             29.4/101.1 MB 7.8 MB/s eta 0:00:10\n",
      "     -----------                             29.4/101.1 MB 7.8 MB/s eta 0:00:10\n",
      "     -----------                             29.4/101.1 MB 7.8 MB/s eta 0:00:10\n",
      "     -----------                             29.4/101.1 MB 7.8 MB/s eta 0:00:10\n",
      "     -----------                             29.4/101.1 MB 7.8 MB/s eta 0:00:10\n",
      "     -----------                             29.4/101.1 MB 7.8 MB/s eta 0:00:10\n",
      "     -----------                             30.4/101.1 MB 6.7 MB/s eta 0:00:11\n",
      "     -----------                             30.4/101.1 MB 6.7 MB/s eta 0:00:11\n",
      "     -----------                             30.4/101.1 MB 6.7 MB/s eta 0:00:11\n",
      "     -----------                             30.4/101.1 MB 6.7 MB/s eta 0:00:11\n",
      "     ------------                            31.5/101.1 MB 6.4 MB/s eta 0:00:11\n",
      "     ------------                            31.5/101.1 MB 6.4 MB/s eta 0:00:11\n",
      "     ------------                            31.5/101.1 MB 6.4 MB/s eta 0:00:11\n",
      "     ------------                            31.5/101.1 MB 6.4 MB/s eta 0:00:11\n",
      "     ------------                            31.5/101.1 MB 6.4 MB/s eta 0:00:11\n",
      "     ------------                            31.5/101.1 MB 6.4 MB/s eta 0:00:11\n",
      "     ------------                            31.5/101.1 MB 6.4 MB/s eta 0:00:11\n",
      "     ------------                            31.5/101.1 MB 6.4 MB/s eta 0:00:11\n",
      "     ------------                            31.5/101.1 MB 6.4 MB/s eta 0:00:11\n",
      "     ------------                            31.5/101.1 MB 6.4 MB/s eta 0:00:11\n",
      "     ------------                            31.5/101.1 MB 6.4 MB/s eta 0:00:11\n",
      "     ------------                            31.5/101.1 MB 6.4 MB/s eta 0:00:11\n",
      "     ------------                            32.5/101.1 MB 5.0 MB/s eta 0:00:14\n",
      "     ------------                            32.5/101.1 MB 5.0 MB/s eta 0:00:14\n",
      "     ------------                            32.5/101.1 MB 5.0 MB/s eta 0:00:14\n",
      "     ------------                            33.5/101.1 MB 5.2 MB/s eta 0:00:14\n",
      "     ------------                            33.5/101.1 MB 5.2 MB/s eta 0:00:14\n",
      "     -------------                           34.3/101.1 MB 4.9 MB/s eta 0:00:14\n",
      "     -------------                           34.6/101.1 MB 5.2 MB/s eta 0:00:13\n",
      "     -------------                           35.6/101.1 MB 5.2 MB/s eta 0:00:13\n",
      "     -------------                           35.6/101.1 MB 5.2 MB/s eta 0:00:13\n",
      "     -------------                           35.6/101.1 MB 5.2 MB/s eta 0:00:13\n",
      "     -------------                           35.6/101.1 MB 5.2 MB/s eta 0:00:13\n",
      "     -------------                           35.6/101.1 MB 5.2 MB/s eta 0:00:13\n",
      "     -------------                           35.6/101.1 MB 5.2 MB/s eta 0:00:13\n",
      "     -------------                           35.6/101.1 MB 5.2 MB/s eta 0:00:13\n",
      "     --------------                          36.7/101.1 MB 5.2 MB/s eta 0:00:13\n",
      "     --------------                          36.7/101.1 MB 5.2 MB/s eta 0:00:13\n",
      "     --------------                          36.7/101.1 MB 5.2 MB/s eta 0:00:13\n",
      "     --------------                          36.8/101.1 MB 4.8 MB/s eta 0:00:14\n",
      "     --------------                          37.7/101.1 MB 5.2 MB/s eta 0:00:13\n",
      "     --------------                          37.7/101.1 MB 5.2 MB/s eta 0:00:13\n",
      "     --------------                          38.8/101.1 MB 5.2 MB/s eta 0:00:12\n",
      "     --------------                          38.8/101.1 MB 5.2 MB/s eta 0:00:12\n",
      "     --------------                          38.8/101.1 MB 5.2 MB/s eta 0:00:12\n",
      "     --------------                          38.8/101.1 MB 5.2 MB/s eta 0:00:12\n",
      "     --------------                          38.8/101.1 MB 5.2 MB/s eta 0:00:12\n",
      "     --------------                          38.8/101.1 MB 5.2 MB/s eta 0:00:12\n",
      "     --------------                          38.8/101.1 MB 5.2 MB/s eta 0:00:12\n",
      "     --------------                          38.8/101.1 MB 5.2 MB/s eta 0:00:12\n",
      "     ---------------                         40.9/101.1 MB 5.5 MB/s eta 0:00:11\n",
      "     ---------------                         40.9/101.1 MB 5.5 MB/s eta 0:00:11\n",
      "     ---------------                         40.9/101.1 MB 5.5 MB/s eta 0:00:11\n",
      "     ---------------                         40.9/101.1 MB 5.5 MB/s eta 0:00:11\n",
      "     ---------------                         40.9/101.1 MB 5.5 MB/s eta 0:00:11\n",
      "     ---------------                         40.9/101.1 MB 5.5 MB/s eta 0:00:11\n",
      "     ---------------                         40.9/101.1 MB 5.5 MB/s eta 0:00:11\n",
      "     ----------------                        41.9/101.1 MB 6.2 MB/s eta 0:00:10\n",
      "     ----------------                        41.9/101.1 MB 6.2 MB/s eta 0:00:10\n",
      "     ----------------                        41.9/101.1 MB 6.2 MB/s eta 0:00:10\n",
      "     ----------------                        41.9/101.1 MB 6.2 MB/s eta 0:00:10\n",
      "     ----------------                        41.9/101.1 MB 6.2 MB/s eta 0:00:10\n",
      "     ----------------                        43.0/101.1 MB 6.0 MB/s eta 0:00:10\n",
      "     ----------------                        43.0/101.1 MB 6.0 MB/s eta 0:00:10\n",
      "     ----------------                        44.0/101.1 MB 6.0 MB/s eta 0:00:10\n",
      "     ----------------                        44.0/101.1 MB 6.0 MB/s eta 0:00:10\n",
      "     -----------------                       44.7/101.1 MB 5.6 MB/s eta 0:00:11\n",
      "     -----------------                       45.1/101.1 MB 5.9 MB/s eta 0:00:10\n",
      "     -----------------                       46.1/101.1 MB 6.8 MB/s eta 0:00:09\n",
      "     -----------------                       46.1/101.1 MB 6.8 MB/s eta 0:00:09\n",
      "     -----------------                       46.1/101.1 MB 6.8 MB/s eta 0:00:09\n",
      "     -----------------                       46.1/101.1 MB 6.8 MB/s eta 0:00:09\n",
      "     ------------------                      47.2/101.1 MB 6.7 MB/s eta 0:00:09\n",
      "     ------------------                      47.2/101.1 MB 6.7 MB/s eta 0:00:09\n",
      "     ------------------                      47.7/101.1 MB 6.3 MB/s eta 0:00:09\n",
      "     ------------------                      48.2/101.1 MB 6.7 MB/s eta 0:00:08\n",
      "     ------------------                      48.2/101.1 MB 6.7 MB/s eta 0:00:08\n",
      "     -------------------                     49.3/101.1 MB 8.0 MB/s eta 0:00:07\n",
      "     -------------------                     49.3/101.1 MB 8.0 MB/s eta 0:00:07\n",
      "     -------------------                     49.3/101.1 MB 8.0 MB/s eta 0:00:07\n",
      "     -------------------                     49.3/101.1 MB 8.0 MB/s eta 0:00:07\n",
      "     -------------------                     49.3/101.1 MB 8.0 MB/s eta 0:00:07\n",
      "     -------------------                     49.3/101.1 MB 8.0 MB/s eta 0:00:07\n",
      "     -------------------                     49.3/101.1 MB 8.0 MB/s eta 0:00:07\n",
      "     -------------------                     50.3/101.1 MB 6.4 MB/s eta 0:00:08\n",
      "     -------------------                     50.3/101.1 MB 6.4 MB/s eta 0:00:08\n",
      "     -------------------                     50.3/101.1 MB 6.4 MB/s eta 0:00:08\n",
      "     -------------------                     51.4/101.1 MB 7.3 MB/s eta 0:00:07\n",
      "     -------------------                     51.4/101.1 MB 7.3 MB/s eta 0:00:07\n",
      "     --------------------                    53.0/101.1 MB 8.0 MB/s eta 0:00:07\n",
      "     --------------------                    53.5/101.1 MB 8.4 MB/s eta 0:00:06\n",
      "     --------------------                    53.5/101.1 MB 8.4 MB/s eta 0:00:06\n",
      "     --------------------                    53.5/101.1 MB 8.4 MB/s eta 0:00:06\n",
      "     --------------------                    53.6/101.1 MB 7.4 MB/s eta 0:00:07\n",
      "     ---------------------                   54.5/101.1 MB 7.9 MB/s eta 0:00:06\n",
      "     ---------------------                   54.5/101.1 MB 7.9 MB/s eta 0:00:06\n",
      "     ---------------------                   54.5/101.1 MB 7.9 MB/s eta 0:00:06\n",
      "     ---------------------                   54.5/101.1 MB 7.9 MB/s eta 0:00:06\n",
      "     ---------------------                   54.5/101.1 MB 7.9 MB/s eta 0:00:06\n",
      "     ---------------------                   55.6/101.1 MB 7.0 MB/s eta 0:00:07\n",
      "     ---------------------                   55.6/101.1 MB 7.0 MB/s eta 0:00:07\n",
      "     ---------------------                   55.6/101.1 MB 7.0 MB/s eta 0:00:07\n",
      "     ---------------------                   55.6/101.1 MB 7.0 MB/s eta 0:00:07\n",
      "     ---------------------                   55.6/101.1 MB 7.0 MB/s eta 0:00:07\n",
      "     ---------------------                   56.6/101.1 MB 6.9 MB/s eta 0:00:07\n",
      "     ---------------------                   56.6/101.1 MB 6.9 MB/s eta 0:00:07\n",
      "     ----------------------                  57.7/101.1 MB 7.0 MB/s eta 0:00:07\n",
      "     ----------------------                  57.7/101.1 MB 7.0 MB/s eta 0:00:07\n",
      "     ----------------------                  58.7/101.1 MB 6.9 MB/s eta 0:00:07\n",
      "     ----------------------                  58.7/101.1 MB 6.9 MB/s eta 0:00:07\n",
      "     ----------------------                  59.3/101.1 MB 6.5 MB/s eta 0:00:07\n",
      "     -----------------------                 59.8/101.1 MB 8.2 MB/s eta 0:00:06\n",
      "     -----------------------                 59.8/101.1 MB 8.2 MB/s eta 0:00:06\n",
      "     -----------------------                 59.8/101.1 MB 8.2 MB/s eta 0:00:06\n",
      "     -----------------------                 59.8/101.1 MB 8.2 MB/s eta 0:00:06\n",
      "     -----------------------                 59.8/101.1 MB 8.2 MB/s eta 0:00:06\n",
      "     -----------------------                 60.8/101.1 MB 7.4 MB/s eta 0:00:06\n",
      "     -----------------------                 60.8/101.1 MB 7.4 MB/s eta 0:00:06\n",
      "     -----------------------                 60.8/101.1 MB 7.4 MB/s eta 0:00:06\n",
      "     -----------------------                 61.9/101.1 MB 7.4 MB/s eta 0:00:06\n",
      "     -----------------------                 61.9/101.1 MB 7.4 MB/s eta 0:00:06\n",
      "     -----------------------                 61.9/101.1 MB 7.4 MB/s eta 0:00:06\n",
      "     -----------------------                 61.9/101.1 MB 7.4 MB/s eta 0:00:06\n",
      "     -----------------------                 61.9/101.1 MB 7.4 MB/s eta 0:00:06\n",
      "     -----------------------                 61.9/101.1 MB 7.4 MB/s eta 0:00:06\n",
      "     -----------------------                 61.9/101.1 MB 7.4 MB/s eta 0:00:06\n",
      "     -----------------------                 61.9/101.1 MB 7.4 MB/s eta 0:00:06\n",
      "     -----------------------                 61.9/101.1 MB 7.4 MB/s eta 0:00:06\n",
      "     -----------------------                 61.9/101.1 MB 7.4 MB/s eta 0:00:06\n",
      "     -----------------------                 61.9/101.1 MB 7.4 MB/s eta 0:00:06\n",
      "     -----------------------                 62.0/101.1 MB 5.3 MB/s eta 0:00:08\n",
      "     ------------------------                62.9/101.1 MB 5.2 MB/s eta 0:00:08\n",
      "     ------------------------                62.9/101.1 MB 5.2 MB/s eta 0:00:08\n",
      "     ------------------------                64.0/101.1 MB 5.5 MB/s eta 0:00:07\n",
      "     ------------------------                64.0/101.1 MB 5.5 MB/s eta 0:00:07\n",
      "     ------------------------                64.0/101.1 MB 5.5 MB/s eta 0:00:07\n",
      "     ------------------------                64.0/101.1 MB 5.5 MB/s eta 0:00:07\n",
      "     ------------------------                64.0/101.1 MB 5.5 MB/s eta 0:00:07\n",
      "     ------------------------                64.0/101.1 MB 5.5 MB/s eta 0:00:07\n",
      "     ------------------------                64.0/101.1 MB 5.5 MB/s eta 0:00:07\n",
      "     ------------------------                64.0/101.1 MB 5.5 MB/s eta 0:00:07\n",
      "     -------------------------               65.0/101.1 MB 5.2 MB/s eta 0:00:07\n",
      "     -------------------------               65.0/101.1 MB 5.2 MB/s eta 0:00:07\n",
      "     -------------------------               66.1/101.1 MB 5.5 MB/s eta 0:00:07\n",
      "     -------------------------               66.1/101.1 MB 5.5 MB/s eta 0:00:07\n",
      "     -------------------------               67.1/101.1 MB 5.5 MB/s eta 0:00:07\n",
      "     --------------------------              68.2/101.1 MB 5.8 MB/s eta 0:00:06\n",
      "     --------------------------              68.2/101.1 MB 5.8 MB/s eta 0:00:06\n",
      "     --------------------------              69.2/101.1 MB 5.8 MB/s eta 0:00:06\n",
      "     --------------------------              69.9/101.1 MB 5.6 MB/s eta 0:00:06\n",
      "     ---------------------------             70.2/101.1 MB 6.6 MB/s eta 0:00:05\n",
      "     ---------------------------             70.6/101.1 MB 6.2 MB/s eta 0:00:05\n",
      "     ---------------------------            72.3/101.1 MB 10.2 MB/s eta 0:00:03\n",
      "     ---------------------------            72.3/101.1 MB 10.2 MB/s eta 0:00:03\n",
      "     ---------------------------            72.3/101.1 MB 10.2 MB/s eta 0:00:03\n",
      "     ---------------------------            72.3/101.1 MB 10.2 MB/s eta 0:00:03\n",
      "     ---------------------------            72.3/101.1 MB 10.2 MB/s eta 0:00:03\n",
      "     ---------------------------            72.3/101.1 MB 10.2 MB/s eta 0:00:03\n",
      "     ---------------------------            72.3/101.1 MB 10.2 MB/s eta 0:00:03\n",
      "     ---------------------------            72.3/101.1 MB 10.2 MB/s eta 0:00:03\n",
      "     ---------------------------            74.3/101.1 MB 11.5 MB/s eta 0:00:03\n",
      "     ---------------------------            74.4/101.1 MB 11.5 MB/s eta 0:00:03\n",
      "     ----------------------------           75.5/101.1 MB 11.7 MB/s eta 0:00:03\n",
      "     ----------------------------           75.5/101.1 MB 11.7 MB/s eta 0:00:03\n",
      "     ----------------------------           75.5/101.1 MB 11.7 MB/s eta 0:00:03\n",
      "     ----------------------------           75.5/101.1 MB 11.7 MB/s eta 0:00:03\n",
      "     ----------------------------           75.5/101.1 MB 11.7 MB/s eta 0:00:03\n",
      "     ----------------------------           75.5/101.1 MB 11.7 MB/s eta 0:00:03\n",
      "     ----------------------------           75.5/101.1 MB 11.7 MB/s eta 0:00:03\n",
      "     ----------------------------           75.5/101.1 MB 11.7 MB/s eta 0:00:03\n",
      "     -----------------------------           75.9/101.1 MB 8.2 MB/s eta 0:00:04\n",
      "     -----------------------------           76.5/101.1 MB 8.7 MB/s eta 0:00:03\n",
      "     -----------------------------           77.3/101.1 MB 8.1 MB/s eta 0:00:03\n",
      "     -----------------------------           77.6/101.1 MB 8.1 MB/s eta 0:00:03\n",
      "     -----------------------------           77.6/101.1 MB 8.1 MB/s eta 0:00:03\n",
      "     ------------------------------          78.6/101.1 MB 8.0 MB/s eta 0:00:03\n",
      "     ------------------------------          78.6/101.1 MB 8.0 MB/s eta 0:00:03\n",
      "     ------------------------------          79.7/101.1 MB 8.0 MB/s eta 0:00:03\n",
      "     ------------------------------          79.7/101.1 MB 8.0 MB/s eta 0:00:03\n",
      "     ------------------------------          79.7/101.1 MB 8.0 MB/s eta 0:00:03\n",
      "     ------------------------------          79.7/101.1 MB 8.0 MB/s eta 0:00:03\n",
      "     ------------------------------          79.7/101.1 MB 8.0 MB/s eta 0:00:03\n",
      "     ------------------------------          79.7/101.1 MB 8.0 MB/s eta 0:00:03\n",
      "     ------------------------------          79.7/101.1 MB 8.0 MB/s eta 0:00:03\n",
      "     ------------------------------          79.7/101.1 MB 8.0 MB/s eta 0:00:03\n",
      "     ------------------------------          79.7/101.1 MB 8.0 MB/s eta 0:00:03\n",
      "     -------------------------------         80.7/101.1 MB 6.3 MB/s eta 0:00:04\n",
      "     -------------------------------         80.7/101.1 MB 6.3 MB/s eta 0:00:04\n",
      "     -------------------------------         80.7/101.1 MB 6.0 MB/s eta 0:00:04\n",
      "     -------------------------------         81.8/101.1 MB 5.9 MB/s eta 0:00:04\n",
      "     -------------------------------         81.8/101.1 MB 5.9 MB/s eta 0:00:04\n",
      "     -------------------------------         81.8/101.1 MB 5.9 MB/s eta 0:00:04\n",
      "     -------------------------------         81.8/101.1 MB 5.4 MB/s eta 0:00:04\n",
      "     -------------------------------         82.8/101.1 MB 6.7 MB/s eta 0:00:03\n",
      "     -------------------------------         82.8/101.1 MB 6.7 MB/s eta 0:00:03\n",
      "     -------------------------------         82.8/101.1 MB 6.7 MB/s eta 0:00:03\n",
      "     -------------------------------         82.8/101.1 MB 6.7 MB/s eta 0:00:03\n",
      "     -------------------------------         82.8/101.1 MB 6.7 MB/s eta 0:00:03\n",
      "     -------------------------------         82.8/101.1 MB 6.7 MB/s eta 0:00:03\n",
      "     -------------------------------         82.8/101.1 MB 6.7 MB/s eta 0:00:03\n",
      "     -------------------------------         82.8/101.1 MB 6.7 MB/s eta 0:00:03\n",
      "     -------------------------------         82.8/101.1 MB 6.7 MB/s eta 0:00:03\n",
      "     -------------------------------         82.8/101.1 MB 6.7 MB/s eta 0:00:03\n",
      "     -------------------------------         82.8/101.1 MB 6.7 MB/s eta 0:00:03\n",
      "     --------------------------------        83.8/101.1 MB 5.0 MB/s eta 0:00:04\n",
      "     --------------------------------        83.9/101.1 MB 5.0 MB/s eta 0:00:04\n",
      "     --------------------------------        83.9/101.1 MB 5.0 MB/s eta 0:00:04\n",
      "     --------------------------------        84.9/101.1 MB 4.9 MB/s eta 0:00:04\n",
      "     --------------------------------        84.9/101.1 MB 4.9 MB/s eta 0:00:04\n",
      "     ---------------------------------       86.0/101.1 MB 5.7 MB/s eta 0:00:03\n",
      "     ---------------------------------       86.0/101.1 MB 5.7 MB/s eta 0:00:03\n",
      "     ---------------------------------       86.0/101.1 MB 5.7 MB/s eta 0:00:03\n",
      "     ---------------------------------       87.0/101.1 MB 5.5 MB/s eta 0:00:03\n",
      "     ---------------------------------       87.0/101.1 MB 5.5 MB/s eta 0:00:03\n",
      "     ---------------------------------       87.0/101.1 MB 5.5 MB/s eta 0:00:03\n",
      "     ---------------------------------       87.0/101.1 MB 5.5 MB/s eta 0:00:03\n",
      "     ---------------------------------       87.0/101.1 MB 5.5 MB/s eta 0:00:03\n",
      "     ---------------------------------       87.0/101.1 MB 5.5 MB/s eta 0:00:03\n",
      "     ---------------------------------       87.0/101.1 MB 5.5 MB/s eta 0:00:03\n",
      "     ---------------------------------       87.0/101.1 MB 5.5 MB/s eta 0:00:03\n",
      "     ---------------------------------       88.1/101.1 MB 4.8 MB/s eta 0:00:03\n",
      "     ---------------------------------       88.1/101.1 MB 4.8 MB/s eta 0:00:03\n",
      "     ---------------------------------       88.1/101.1 MB 4.8 MB/s eta 0:00:03\n",
      "     ---------------------------------       88.1/101.1 MB 4.8 MB/s eta 0:00:03\n",
      "     ---------------------------------       88.1/101.1 MB 4.8 MB/s eta 0:00:03\n",
      "     ---------------------------------       88.1/101.1 MB 4.8 MB/s eta 0:00:03\n",
      "     ---------------------------------       88.1/101.1 MB 4.8 MB/s eta 0:00:03\n",
      "     ----------------------------------      89.1/101.1 MB 4.4 MB/s eta 0:00:03\n",
      "     ----------------------------------      89.1/101.1 MB 4.4 MB/s eta 0:00:03\n",
      "     ----------------------------------      90.2/101.1 MB 5.1 MB/s eta 0:00:03\n",
      "     ----------------------------------      90.2/101.1 MB 5.1 MB/s eta 0:00:03\n",
      "     ----------------------------------      90.2/101.1 MB 5.1 MB/s eta 0:00:03\n",
      "     ----------------------------------      90.2/101.1 MB 5.1 MB/s eta 0:00:03\n",
      "     -----------------------------------     91.2/101.1 MB 4.9 MB/s eta 0:00:03\n",
      "     -----------------------------------     91.2/101.1 MB 4.9 MB/s eta 0:00:03\n",
      "     -----------------------------------     91.2/101.1 MB 4.9 MB/s eta 0:00:03\n",
      "     -----------------------------------     91.2/101.1 MB 4.9 MB/s eta 0:00:03\n",
      "     -----------------------------------     91.2/101.1 MB 4.9 MB/s eta 0:00:03\n",
      "     -----------------------------------     91.2/101.1 MB 4.9 MB/s eta 0:00:03\n",
      "     -----------------------------------     91.2/101.1 MB 4.9 MB/s eta 0:00:03\n",
      "     -----------------------------------     91.2/101.1 MB 4.9 MB/s eta 0:00:03\n",
      "     -----------------------------------     92.3/101.1 MB 4.5 MB/s eta 0:00:02\n",
      "     -----------------------------------     92.3/101.1 MB 4.5 MB/s eta 0:00:02\n",
      "     -----------------------------------     92.3/101.1 MB 4.5 MB/s eta 0:00:02\n",
      "     -----------------------------------     92.3/101.1 MB 4.5 MB/s eta 0:00:02\n",
      "     -----------------------------------     92.3/101.1 MB 4.5 MB/s eta 0:00:02\n",
      "     -----------------------------------     92.3/101.1 MB 4.5 MB/s eta 0:00:02\n",
      "     -----------------------------------     92.3/101.1 MB 4.5 MB/s eta 0:00:02\n",
      "     ------------------------------------    93.3/101.1 MB 5.0 MB/s eta 0:00:02\n",
      "     ------------------------------------    93.3/101.1 MB 5.0 MB/s eta 0:00:02\n",
      "     ------------------------------------    93.3/101.1 MB 5.0 MB/s eta 0:00:02\n",
      "     ------------------------------------    93.3/101.1 MB 5.0 MB/s eta 0:00:02\n",
      "     ------------------------------------    94.3/101.1 MB 4.8 MB/s eta 0:00:02\n",
      "     ------------------------------------    94.4/101.1 MB 4.7 MB/s eta 0:00:02\n",
      "     ------------------------------------    94.4/101.1 MB 4.7 MB/s eta 0:00:02\n",
      "     ------------------------------------    94.4/101.1 MB 4.7 MB/s eta 0:00:02\n",
      "     ------------------------------------    95.4/101.1 MB 4.6 MB/s eta 0:00:02\n",
      "     ------------------------------------    95.4/101.1 MB 4.6 MB/s eta 0:00:02\n",
      "     -------------------------------------   96.5/101.1 MB 4.8 MB/s eta 0:00:01\n",
      "     -------------------------------------   96.5/101.1 MB 4.8 MB/s eta 0:00:01\n",
      "     -------------------------------------   97.5/101.1 MB 5.4 MB/s eta 0:00:01\n",
      "     -------------------------------------   97.5/101.1 MB 5.4 MB/s eta 0:00:01\n",
      "     --------------------------------------  98.6/101.1 MB 6.1 MB/s eta 0:00:01\n",
      "     --------------------------------------  98.6/101.1 MB 6.1 MB/s eta 0:00:01\n",
      "     --------------------------------------  98.6/101.1 MB 6.1 MB/s eta 0:00:01\n",
      "     --------------------------------------  99.6/101.1 MB 6.1 MB/s eta 0:00:01\n",
      "     --------------------------------------  99.6/101.1 MB 6.1 MB/s eta 0:00:01\n",
      "     --------------------------------------  99.6/101.1 MB 6.1 MB/s eta 0:00:01\n",
      "     --------------------------------------  99.6/101.1 MB 6.1 MB/s eta 0:00:01\n",
      "     -------------------------------------  101.1/101.1 MB 6.1 MB/s eta 0:00:01\n",
      "     -------------------------------------  101.1/101.1 MB 6.1 MB/s eta 0:00:01\n",
      "     -------------------------------------  101.1/101.1 MB 6.1 MB/s eta 0:00:01\n",
      "     -------------------------------------  101.1/101.1 MB 6.1 MB/s eta 0:00:01\n",
      "     -------------------------------------  101.1/101.1 MB 6.1 MB/s eta 0:00:01\n",
      "     -------------------------------------  101.1/101.1 MB 6.1 MB/s eta 0:00:01\n",
      "     -------------------------------------  101.1/101.1 MB 6.1 MB/s eta 0:00:01\n",
      "     -------------------------------------  101.1/101.1 MB 6.1 MB/s eta 0:00:01\n",
      "     -------------------------------------  101.1/101.1 MB 6.1 MB/s eta 0:00:01\n",
      "     -------------------------------------  101.1/101.1 MB 6.1 MB/s eta 0:00:01\n",
      "     -------------------------------------  101.1/101.1 MB 6.1 MB/s eta 0:00:01\n",
      "     -------------------------------------  101.1/101.1 MB 6.1 MB/s eta 0:00:01\n",
      "     -------------------------------------  101.1/101.1 MB 6.1 MB/s eta 0:00:01\n",
      "     -------------------------------------  101.1/101.1 MB 6.1 MB/s eta 0:00:01\n",
      "     -------------------------------------  101.1/101.1 MB 6.1 MB/s eta 0:00:01\n",
      "     -------------------------------------  101.1/101.1 MB 6.1 MB/s eta 0:00:01\n",
      "     -------------------------------------  101.1/101.1 MB 6.1 MB/s eta 0:00:01\n",
      "     -------------------------------------  101.1/101.1 MB 6.1 MB/s eta 0:00:01\n",
      "     -------------------------------------  101.1/101.1 MB 6.1 MB/s eta 0:00:01\n",
      "     -------------------------------------  101.1/101.1 MB 6.1 MB/s eta 0:00:01\n",
      "     -------------------------------------  101.1/101.1 MB 6.1 MB/s eta 0:00:01\n",
      "     -------------------------------------  101.1/101.1 MB 6.1 MB/s eta 0:00:01\n",
      "     -------------------------------------  101.1/101.1 MB 6.1 MB/s eta 0:00:01\n",
      "     -------------------------------------  101.1/101.1 MB 6.1 MB/s eta 0:00:01\n",
      "     -------------------------------------  101.1/101.1 MB 6.1 MB/s eta 0:00:01\n",
      "     -------------------------------------- 101.1/101.1 MB 3.6 MB/s eta 0:00:00\n",
      "Requirement already satisfied: graphviz in c:\\users\\pichau\\anaconda3\\lib\\site-packages (from catboost) (0.20.3)\n",
      "Requirement already satisfied: matplotlib in c:\\users\\pichau\\anaconda3\\lib\\site-packages (from catboost) (3.7.1)\n",
      "Requirement already satisfied: numpy>=1.16.0 in c:\\users\\pichau\\anaconda3\\lib\\site-packages (from catboost) (1.23.5)\n",
      "Requirement already satisfied: pandas>=0.24 in c:\\users\\pichau\\anaconda3\\lib\\site-packages (from catboost) (1.5.3)\n",
      "Requirement already satisfied: scipy in c:\\users\\pichau\\anaconda3\\lib\\site-packages (from catboost) (1.10.1)\n",
      "Requirement already satisfied: plotly in c:\\users\\pichau\\anaconda3\\lib\\site-packages (from catboost) (5.9.0)\n",
      "Requirement already satisfied: six in c:\\users\\pichau\\anaconda3\\lib\\site-packages (from catboost) (1.16.0)\n",
      "Requirement already satisfied: python-dateutil>=2.8.1 in c:\\users\\pichau\\anaconda3\\lib\\site-packages (from pandas>=0.24->catboost) (2.8.2)\n",
      "Requirement already satisfied: pytz>=2020.1 in c:\\users\\pichau\\anaconda3\\lib\\site-packages (from pandas>=0.24->catboost) (2022.7)\n",
      "Requirement already satisfied: contourpy>=1.0.1 in c:\\users\\pichau\\anaconda3\\lib\\site-packages (from matplotlib->catboost) (1.0.5)\n",
      "Requirement already satisfied: cycler>=0.10 in c:\\users\\pichau\\anaconda3\\lib\\site-packages (from matplotlib->catboost) (0.11.0)\n",
      "Requirement already satisfied: fonttools>=4.22.0 in c:\\users\\pichau\\anaconda3\\lib\\site-packages (from matplotlib->catboost) (4.25.0)\n",
      "Requirement already satisfied: kiwisolver>=1.0.1 in c:\\users\\pichau\\anaconda3\\lib\\site-packages (from matplotlib->catboost) (1.4.4)\n",
      "Requirement already satisfied: packaging>=20.0 in c:\\users\\pichau\\anaconda3\\lib\\site-packages (from matplotlib->catboost) (23.0)\n",
      "Requirement already satisfied: pillow>=6.2.0 in c:\\users\\pichau\\anaconda3\\lib\\site-packages (from matplotlib->catboost) (9.4.0)\n",
      "Requirement already satisfied: pyparsing>=2.3.1 in c:\\users\\pichau\\anaconda3\\lib\\site-packages (from matplotlib->catboost) (3.0.9)\n",
      "Requirement already satisfied: importlib-resources>=3.2.0 in c:\\users\\pichau\\anaconda3\\lib\\site-packages (from matplotlib->catboost) (5.2.0)\n",
      "Requirement already satisfied: tenacity>=6.2.0 in c:\\users\\pichau\\anaconda3\\lib\\site-packages (from plotly->catboost) (8.2.2)\n",
      "Requirement already satisfied: zipp>=3.1.0 in c:\\users\\pichau\\anaconda3\\lib\\site-packages (from importlib-resources>=3.2.0->matplotlib->catboost) (3.11.0)\n",
      "Installing collected packages: catboost\n",
      "Successfully installed catboost-1.2.3\n",
      "Note: you may need to restart the kernel to use updated packages.\n"
     ]
    }
   ],
   "source": [
    "%pip install catboost "
   ]
  },
  {
   "cell_type": "code",
   "execution_count": 16,
   "metadata": {},
   "outputs": [
    {
     "name": "stdout",
     "output_type": "stream",
     "text": [
      "Collecting glmnet_py\n",
      "  Downloading glmnet_py-0.1.0b2-py3-none-any.whl (378 kB)\n",
      "                                              0.0/378.3 kB ? eta -:--:--\n",
      "     ------------------------------------- 378.3/378.3 kB 11.5 MB/s eta 0:00:00\n",
      "Requirement already satisfied: joblib>=0.10.3 in c:\\users\\pichau\\anaconda3\\lib\\site-packages (from glmnet_py) (1.2.0)\n",
      "Installing collected packages: glmnet_py\n",
      "Successfully installed glmnet_py-0.1.0b2\n",
      "Note: you may need to restart the kernel to use updated packages.\n"
     ]
    }
   ],
   "source": [
    "%pip install glmnet_py"
   ]
  },
  {
   "cell_type": "code",
   "execution_count": 18,
   "metadata": {},
   "outputs": [
    {
     "name": "stdout",
     "output_type": "stream",
     "text": [
      "Collecting treeinterpreter\n",
      "  Downloading treeinterpreter-0.2.3-py2.py3-none-any.whl (6.0 kB)\n",
      "Installing collected packages: treeinterpreter\n",
      "Successfully installed treeinterpreter-0.2.3\n",
      "Note: you may need to restart the kernel to use updated packages.\n"
     ]
    }
   ],
   "source": [
    "%pip install treeinterpreter"
   ]
  },
  {
   "cell_type": "code",
   "execution_count": 19,
   "metadata": {},
   "outputs": [
    {
     "name": "stdout",
     "output_type": "stream",
     "text": [
      "Collecting shap\n",
      "  Downloading shap-0.45.0-cp39-cp39-win_amd64.whl (453 kB)\n",
      "                                              0.0/453.1 kB ? eta -:--:--\n",
      "     ------------------------------------  450.6/453.1 kB 14.2 MB/s eta 0:00:01\n",
      "     ------------------------------------- 453.1/453.1 kB 14.3 MB/s eta 0:00:00\n",
      "Requirement already satisfied: numpy in c:\\users\\pichau\\anaconda3\\lib\\site-packages (from shap) (1.23.5)\n",
      "Requirement already satisfied: scipy in c:\\users\\pichau\\anaconda3\\lib\\site-packages (from shap) (1.10.1)\n",
      "Requirement already satisfied: scikit-learn in c:\\users\\pichau\\anaconda3\\lib\\site-packages (from shap) (1.2.2)\n",
      "Requirement already satisfied: pandas in c:\\users\\pichau\\anaconda3\\lib\\site-packages (from shap) (1.5.3)\n",
      "Requirement already satisfied: tqdm>=4.27.0 in c:\\users\\pichau\\anaconda3\\lib\\site-packages (from shap) (4.65.0)\n",
      "Requirement already satisfied: packaging>20.9 in c:\\users\\pichau\\anaconda3\\lib\\site-packages (from shap) (23.0)\n",
      "Collecting slicer==0.0.7 (from shap)\n",
      "  Downloading slicer-0.0.7-py3-none-any.whl (14 kB)\n",
      "Requirement already satisfied: numba in c:\\users\\pichau\\anaconda3\\lib\\site-packages (from shap) (0.57.0)\n",
      "Requirement already satisfied: cloudpickle in c:\\users\\pichau\\anaconda3\\lib\\site-packages (from shap) (2.2.1)\n",
      "Requirement already satisfied: colorama in c:\\users\\pichau\\anaconda3\\lib\\site-packages (from tqdm>=4.27.0->shap) (0.4.6)\n",
      "Requirement already satisfied: llvmlite<0.41,>=0.40.0dev0 in c:\\users\\pichau\\anaconda3\\lib\\site-packages (from numba->shap) (0.40.0)\n",
      "Requirement already satisfied: python-dateutil>=2.8.1 in c:\\users\\pichau\\anaconda3\\lib\\site-packages (from pandas->shap) (2.8.2)\n",
      "Requirement already satisfied: pytz>=2020.1 in c:\\users\\pichau\\anaconda3\\lib\\site-packages (from pandas->shap) (2022.7)\n",
      "Requirement already satisfied: joblib>=1.1.1 in c:\\users\\pichau\\anaconda3\\lib\\site-packages (from scikit-learn->shap) (1.2.0)\n",
      "Requirement already satisfied: threadpoolctl>=2.0.0 in c:\\users\\pichau\\anaconda3\\lib\\site-packages (from scikit-learn->shap) (2.2.0)\n",
      "Requirement already satisfied: six>=1.5 in c:\\users\\pichau\\anaconda3\\lib\\site-packages (from python-dateutil>=2.8.1->pandas->shap) (1.16.0)\n",
      "Installing collected packages: slicer, shap\n",
      "Successfully installed shap-0.45.0 slicer-0.0.7\n",
      "Note: you may need to restart the kernel to use updated packages.\n"
     ]
    }
   ],
   "source": [
    "%pip install shap"
   ]
  },
  {
   "cell_type": "code",
   "execution_count": 20,
   "metadata": {},
   "outputs": [
    {
     "name": "stdout",
     "output_type": "stream",
     "text": [
      "Collecting tpot\n",
      "  Downloading TPOT-0.12.2-py3-none-any.whl (87 kB)\n",
      "                                              0.0/87.4 kB ? eta -:--:--\n",
      "     ---------------------------------------- 87.4/87.4 kB 5.1 MB/s eta 0:00:00\n",
      "Requirement already satisfied: numpy>=1.16.3 in c:\\users\\pichau\\anaconda3\\lib\\site-packages (from tpot) (1.23.5)\n",
      "Requirement already satisfied: scipy>=1.3.1 in c:\\users\\pichau\\anaconda3\\lib\\site-packages (from tpot) (1.10.1)\n",
      "Collecting scikit-learn>=1.4.1 (from tpot)\n",
      "  Downloading scikit_learn-1.4.2-cp39-cp39-win_amd64.whl (10.6 MB)\n",
      "                                              0.0/10.6 MB ? eta -:--:--\n",
      "     --------                                 2.2/10.6 MB 47.3 MB/s eta 0:00:01\n",
      "     ---------------                          4.0/10.6 MB 51.5 MB/s eta 0:00:01\n",
      "     ------------------------                 6.5/10.6 MB 51.9 MB/s eta 0:00:01\n",
      "     --------------------------------------  10.6/10.6 MB 65.6 MB/s eta 0:00:01\n",
      "     --------------------------------------  10.6/10.6 MB 65.6 MB/s eta 0:00:01\n",
      "     --------------------------------------- 10.6/10.6 MB 43.7 MB/s eta 0:00:00\n",
      "Collecting deap>=1.2 (from tpot)\n",
      "  Downloading deap-1.4.1-cp39-cp39-win_amd64.whl (109 kB)\n",
      "                                              0.0/109.9 kB ? eta -:--:--\n",
      "     -------------------------------------- 109.9/109.9 kB 6.6 MB/s eta 0:00:00\n",
      "Collecting update-checker>=0.16 (from tpot)\n",
      "  Downloading update_checker-0.18.0-py3-none-any.whl (7.0 kB)\n",
      "Requirement already satisfied: tqdm>=4.36.1 in c:\\users\\pichau\\anaconda3\\lib\\site-packages (from tpot) (4.65.0)\n",
      "Collecting stopit>=1.1.1 (from tpot)\n",
      "  Downloading stopit-1.1.2.tar.gz (18 kB)\n",
      "  Preparing metadata (setup.py): started\n",
      "  Preparing metadata (setup.py): finished with status 'error'\n",
      "Note: you may need to restart the kernel to use updated packages.\n"
     ]
    },
    {
     "name": "stderr",
     "output_type": "stream",
     "text": [
      "  ERROR: Error [WinError 225] Não foi possível concluir a operação com êxito porque o arquivo contém um vírus ou software possivelmente indesejado while executing command python setup.py egg_info\n",
      "ERROR: Could not install packages due to an OSError: [WinError 225] Não foi possível concluir a operação com êxito porque o arquivo contém um vírus ou software possivelmente indesejado\n",
      "\n"
     ]
    }
   ],
   "source": [
    "%pip install tpot"
   ]
  },
  {
   "cell_type": "code",
   "execution_count": 22,
   "metadata": {},
   "outputs": [
    {
     "name": "stdout",
     "output_type": "stream",
     "text": [
      "Collecting phate\n",
      "  Downloading phate-1.0.11-py3-none-any.whl (23 kB)\n",
      "Requirement already satisfied: numpy>=1.16.0 in c:\\users\\pichau\\anaconda3\\lib\\site-packages (from phate) (1.23.5)\n",
      "Requirement already satisfied: scipy>=1.1.0 in c:\\users\\pichau\\anaconda3\\lib\\site-packages (from phate) (1.10.1)\n",
      "Requirement already satisfied: scikit-learn>=0.20.0 in c:\\users\\pichau\\anaconda3\\lib\\site-packages (from phate) (1.2.2)\n",
      "Requirement already satisfied: future in c:\\users\\pichau\\anaconda3\\lib\\site-packages (from phate) (0.18.3)\n",
      "Collecting tasklogger>=1.2 (from phate)\n",
      "  Downloading tasklogger-1.2.0-py3-none-any.whl (14 kB)\n",
      "Collecting graphtools>=1.5.3 (from phate)\n",
      "  Downloading graphtools-1.5.3-py3-none-any.whl (45 kB)\n",
      "                                              0.0/45.4 kB ? eta -:--:--\n",
      "     ---------------------------------------- 45.4/45.4 kB ? eta 0:00:00\n",
      "Collecting scprep>=0.11.1 (from phate)\n",
      "  Downloading scprep-1.2.3-py3-none-any.whl (94 kB)\n",
      "                                              0.0/94.1 kB ? eta -:--:--\n",
      "     ---------------------------------------- 94.1/94.1 kB ? eta 0:00:00\n",
      "Requirement already satisfied: Deprecated in c:\\users\\pichau\\anaconda3\\lib\\site-packages (from phate) (1.2.14)\n",
      "Collecting s-gd2>=1.8.1 (from phate)\n",
      "  Downloading s_gd2-1.8.1-cp39-cp39-win_amd64.whl (50 kB)\n",
      "                                              0.0/51.0 kB ? eta -:--:--\n",
      "     ---------------------------------------- 51.0/51.0 kB ? eta 0:00:00\n",
      "Requirement already satisfied: matplotlib>=3.0 in c:\\users\\pichau\\anaconda3\\lib\\site-packages (from phate) (3.7.1)\n",
      "Collecting pygsp>=0.5.1 (from graphtools>=1.5.3->phate)\n",
      "  Downloading PyGSP-0.5.1-py2.py3-none-any.whl (1.8 MB)\n",
      "                                              0.0/1.8 MB ? eta -:--:--\n",
      "     ----------------------                   1.0/1.8 MB 64.6 MB/s eta 0:00:01\n",
      "     ----------------------                   1.0/1.8 MB 64.6 MB/s eta 0:00:01\n",
      "     ----------------------                   1.0/1.8 MB 64.6 MB/s eta 0:00:01\n",
      "     -------------------------------          1.4/1.8 MB 8.3 MB/s eta 0:00:01\n",
      "     ---------------------------------------- 1.8/1.8 MB 9.0 MB/s eta 0:00:00\n",
      "Requirement already satisfied: contourpy>=1.0.1 in c:\\users\\pichau\\anaconda3\\lib\\site-packages (from matplotlib>=3.0->phate) (1.0.5)\n",
      "Requirement already satisfied: cycler>=0.10 in c:\\users\\pichau\\anaconda3\\lib\\site-packages (from matplotlib>=3.0->phate) (0.11.0)\n",
      "Requirement already satisfied: fonttools>=4.22.0 in c:\\users\\pichau\\anaconda3\\lib\\site-packages (from matplotlib>=3.0->phate) (4.25.0)\n",
      "Requirement already satisfied: kiwisolver>=1.0.1 in c:\\users\\pichau\\anaconda3\\lib\\site-packages (from matplotlib>=3.0->phate) (1.4.4)\n",
      "Requirement already satisfied: packaging>=20.0 in c:\\users\\pichau\\anaconda3\\lib\\site-packages (from matplotlib>=3.0->phate) (23.0)\n",
      "Requirement already satisfied: pillow>=6.2.0 in c:\\users\\pichau\\anaconda3\\lib\\site-packages (from matplotlib>=3.0->phate) (9.4.0)\n",
      "Requirement already satisfied: pyparsing>=2.3.1 in c:\\users\\pichau\\anaconda3\\lib\\site-packages (from matplotlib>=3.0->phate) (3.0.9)\n",
      "Requirement already satisfied: python-dateutil>=2.7 in c:\\users\\pichau\\anaconda3\\lib\\site-packages (from matplotlib>=3.0->phate) (2.8.2)\n",
      "Requirement already satisfied: importlib-resources>=3.2.0 in c:\\users\\pichau\\anaconda3\\lib\\site-packages (from matplotlib>=3.0->phate) (5.2.0)\n",
      "Requirement already satisfied: joblib>=1.1.1 in c:\\users\\pichau\\anaconda3\\lib\\site-packages (from scikit-learn>=0.20.0->phate) (1.2.0)\n",
      "Requirement already satisfied: threadpoolctl>=2.0.0 in c:\\users\\pichau\\anaconda3\\lib\\site-packages (from scikit-learn>=0.20.0->phate) (2.2.0)\n",
      "Requirement already satisfied: decorator>=4.3.0 in c:\\users\\pichau\\anaconda3\\lib\\site-packages (from scprep>=0.11.1->phate) (5.1.1)\n",
      "Requirement already satisfied: pandas<2.1,>=0.25 in c:\\users\\pichau\\anaconda3\\lib\\site-packages (from scprep>=0.11.1->phate) (1.5.3)\n",
      "Requirement already satisfied: wrapt<2,>=1.10 in c:\\users\\pichau\\anaconda3\\lib\\site-packages (from Deprecated->phate) (1.14.1)\n",
      "Requirement already satisfied: zipp>=3.1.0 in c:\\users\\pichau\\anaconda3\\lib\\site-packages (from importlib-resources>=3.2.0->matplotlib>=3.0->phate) (3.11.0)\n",
      "Requirement already satisfied: pytz>=2020.1 in c:\\users\\pichau\\anaconda3\\lib\\site-packages (from pandas<2.1,>=0.25->scprep>=0.11.1->phate) (2022.7)\n",
      "Requirement already satisfied: six>=1.5 in c:\\users\\pichau\\anaconda3\\lib\\site-packages (from python-dateutil>=2.7->matplotlib>=3.0->phate) (1.16.0)\n",
      "Installing collected packages: s-gd2, tasklogger, pygsp, scprep, graphtools, phate\n",
      "Successfully installed graphtools-1.5.3 phate-1.0.11 pygsp-0.5.1 s-gd2-1.8.1 scprep-1.2.3 tasklogger-1.2.0\n",
      "Note: you may need to restart the kernel to use updated packages.\n"
     ]
    }
   ],
   "source": [
    "%pip install phate"
   ]
  },
  {
   "cell_type": "code",
   "execution_count": 24,
   "metadata": {},
   "outputs": [
    {
     "name": "stdout",
     "output_type": "stream",
     "text": [
      "Collecting mlxtend\n",
      "  Downloading mlxtend-0.23.1-py3-none-any.whl (1.4 MB)\n",
      "                                              0.0/1.4 MB ? eta -:--:--\n",
      "     --------                                 0.3/1.4 MB 6.5 MB/s eta 0:00:01\n",
      "     -----------------------                  0.8/1.4 MB 8.9 MB/s eta 0:00:01\n",
      "     ---------------------------------------  1.4/1.4 MB 10.2 MB/s eta 0:00:01\n",
      "     ---------------------------------------- 1.4/1.4 MB 10.3 MB/s eta 0:00:00\n",
      "Requirement already satisfied: scipy>=1.2.1 in c:\\users\\pichau\\anaconda3\\lib\\site-packages (from mlxtend) (1.10.1)\n",
      "Requirement already satisfied: numpy>=1.16.2 in c:\\users\\pichau\\anaconda3\\lib\\site-packages (from mlxtend) (1.23.5)\n",
      "Requirement already satisfied: pandas>=0.24.2 in c:\\users\\pichau\\anaconda3\\lib\\site-packages (from mlxtend) (1.5.3)\n",
      "Requirement already satisfied: scikit-learn>=1.0.2 in c:\\users\\pichau\\anaconda3\\lib\\site-packages (from mlxtend) (1.2.2)\n",
      "Requirement already satisfied: matplotlib>=3.0.0 in c:\\users\\pichau\\anaconda3\\lib\\site-packages (from mlxtend) (3.7.1)\n",
      "Requirement already satisfied: joblib>=0.13.2 in c:\\users\\pichau\\anaconda3\\lib\\site-packages (from mlxtend) (1.2.0)\n",
      "Requirement already satisfied: contourpy>=1.0.1 in c:\\users\\pichau\\anaconda3\\lib\\site-packages (from matplotlib>=3.0.0->mlxtend) (1.0.5)\n",
      "Requirement already satisfied: cycler>=0.10 in c:\\users\\pichau\\anaconda3\\lib\\site-packages (from matplotlib>=3.0.0->mlxtend) (0.11.0)\n",
      "Requirement already satisfied: fonttools>=4.22.0 in c:\\users\\pichau\\anaconda3\\lib\\site-packages (from matplotlib>=3.0.0->mlxtend) (4.25.0)\n",
      "Requirement already satisfied: kiwisolver>=1.0.1 in c:\\users\\pichau\\anaconda3\\lib\\site-packages (from matplotlib>=3.0.0->mlxtend) (1.4.4)\n",
      "Requirement already satisfied: packaging>=20.0 in c:\\users\\pichau\\anaconda3\\lib\\site-packages (from matplotlib>=3.0.0->mlxtend) (23.0)\n",
      "Requirement already satisfied: pillow>=6.2.0 in c:\\users\\pichau\\anaconda3\\lib\\site-packages (from matplotlib>=3.0.0->mlxtend) (9.4.0)\n",
      "Requirement already satisfied: pyparsing>=2.3.1 in c:\\users\\pichau\\anaconda3\\lib\\site-packages (from matplotlib>=3.0.0->mlxtend) (3.0.9)\n",
      "Requirement already satisfied: python-dateutil>=2.7 in c:\\users\\pichau\\anaconda3\\lib\\site-packages (from matplotlib>=3.0.0->mlxtend) (2.8.2)\n",
      "Requirement already satisfied: importlib-resources>=3.2.0 in c:\\users\\pichau\\anaconda3\\lib\\site-packages (from matplotlib>=3.0.0->mlxtend) (5.2.0)\n",
      "Requirement already satisfied: pytz>=2020.1 in c:\\users\\pichau\\anaconda3\\lib\\site-packages (from pandas>=0.24.2->mlxtend) (2022.7)\n",
      "Requirement already satisfied: threadpoolctl>=2.0.0 in c:\\users\\pichau\\anaconda3\\lib\\site-packages (from scikit-learn>=1.0.2->mlxtend) (2.2.0)\n",
      "Requirement already satisfied: zipp>=3.1.0 in c:\\users\\pichau\\anaconda3\\lib\\site-packages (from importlib-resources>=3.2.0->matplotlib>=3.0.0->mlxtend) (3.11.0)\n",
      "Requirement already satisfied: six>=1.5 in c:\\users\\pichau\\anaconda3\\lib\\site-packages (from python-dateutil>=2.7->matplotlib>=3.0.0->mlxtend) (1.16.0)\n",
      "Installing collected packages: mlxtend\n",
      "Successfully installed mlxtend-0.23.1\n",
      "Note: you may need to restart the kernel to use updated packages.\n"
     ]
    }
   ],
   "source": [
    "%pip install mlxtend"
   ]
  },
  {
   "cell_type": "code",
   "execution_count": 26,
   "metadata": {},
   "outputs": [
    {
     "name": "stdout",
     "output_type": "stream",
     "text": [
      "Requirement already satisfied: graphviz in c:\\users\\pichau\\anaconda3\\lib\\site-packages (0.20.3)\n",
      "Note: you may need to restart the kernel to use updated packages.\n"
     ]
    }
   ],
   "source": [
    "%pip install graphviz"
   ]
  },
  {
   "cell_type": "code",
   "execution_count": 32,
   "metadata": {},
   "outputs": [
    {
     "name": "stdout",
     "output_type": "stream",
     "text": [
      "Collecting featuretoolsNote: you may need to restart the kernel to use updated packages.\n",
      "\n",
      "  Downloading featuretools-1.30.0-py3-none-any.whl (620 kB)\n",
      "                                              0.0/620.1 kB ? eta -:--:--\n",
      "     -----------------------------------   593.9/620.1 kB 12.4 MB/s eta 0:00:01\n",
      "     ------------------------------------- 620.1/620.1 kB 13.0 MB/s eta 0:00:00\n",
      "Requirement already satisfied: cloudpickle>=1.5.0 in c:\\users\\pichau\\anaconda3\\lib\\site-packages (from featuretools) (2.2.1)\n",
      "Collecting holidays>=0.17 (from featuretools)\n",
      "  Downloading holidays-0.46-py3-none-any.whl (1.0 MB)\n",
      "                                              0.0/1.0 MB ? eta -:--:--\n",
      "     ---------------------------------------- 1.0/1.0 MB 66.8 MB/s eta 0:00:00\n",
      "Collecting numpy>=1.25.0 (from featuretools)\n",
      "  Downloading numpy-1.26.4-cp39-cp39-win_amd64.whl (15.8 MB)\n",
      "                                              0.0/15.8 MB ? eta -:--:--\n",
      "     -------                                  2.8/15.8 MB 86.4 MB/s eta 0:00:01\n",
      "     -------------                            5.2/15.8 MB 55.2 MB/s eta 0:00:01\n",
      "     -----------------                        7.1/15.8 MB 50.0 MB/s eta 0:00:01\n",
      "     ---------------------------             11.1/15.8 MB 54.4 MB/s eta 0:00:01\n",
      "     --------------------------------------  15.7/15.8 MB 72.6 MB/s eta 0:00:01\n",
      "     --------------------------------------  15.8/15.8 MB 81.8 MB/s eta 0:00:01\n",
      "     --------------------------------------- 15.8/15.8 MB 50.4 MB/s eta 0:00:00\n",
      "Requirement already satisfied: packaging>=20.0 in c:\\users\\pichau\\anaconda3\\lib\\site-packages (from featuretools) (23.0)\n",
      "Collecting pandas>=2.0.0 (from featuretools)\n",
      "  Downloading pandas-2.2.2-cp39-cp39-win_amd64.whl (11.6 MB)\n",
      "                                              0.0/11.6 MB ? eta -:--:--\n",
      "     ---                                      1.0/11.6 MB 64.6 MB/s eta 0:00:01\n",
      "     ---                                      1.0/11.6 MB 64.6 MB/s eta 0:00:01\n",
      "     -------                                  2.1/11.6 MB 16.6 MB/s eta 0:00:01\n",
      "     -------                                  2.1/11.6 MB 16.6 MB/s eta 0:00:01\n",
      "     -------                                  2.1/11.6 MB 16.6 MB/s eta 0:00:01\n",
      "     -------                                  2.1/11.6 MB 16.6 MB/s eta 0:00:01\n",
      "     -------                                  2.1/11.6 MB 16.6 MB/s eta 0:00:01\n",
      "     -------                                  2.1/11.6 MB 16.6 MB/s eta 0:00:01\n",
      "     ----------                               3.1/11.6 MB 7.4 MB/s eta 0:00:02\n",
      "     ----------                               3.1/11.6 MB 7.4 MB/s eta 0:00:02\n",
      "     -----------                              3.3/11.6 MB 6.4 MB/s eta 0:00:02\n",
      "     --------------                           4.2/11.6 MB 7.9 MB/s eta 0:00:01\n",
      "     --------------                           4.2/11.6 MB 7.9 MB/s eta 0:00:01\n",
      "     ------------------                       5.2/11.6 MB 8.2 MB/s eta 0:00:01\n",
      "     ------------------                       5.2/11.6 MB 8.2 MB/s eta 0:00:01\n",
      "     ------------------                       5.2/11.6 MB 8.2 MB/s eta 0:00:01\n",
      "     ------------------                       5.2/11.6 MB 8.2 MB/s eta 0:00:01\n",
      "     ---------------------                    6.3/11.6 MB 7.7 MB/s eta 0:00:01\n",
      "     ---------------------                    6.3/11.6 MB 7.7 MB/s eta 0:00:01\n",
      "     ----------------------                   6.5/11.6 MB 7.0 MB/s eta 0:00:01\n",
      "     ----------------------                   6.6/11.6 MB 6.7 MB/s eta 0:00:01\n",
      "     -------------------------                7.3/11.6 MB 7.1 MB/s eta 0:00:01\n",
      "     -------------------------                7.3/11.6 MB 7.1 MB/s eta 0:00:01\n",
      "     -------------------------                7.3/11.6 MB 7.1 MB/s eta 0:00:01\n",
      "     -------------------------                7.3/11.6 MB 7.1 MB/s eta 0:00:01\n",
      "     -------------------------                7.3/11.6 MB 7.1 MB/s eta 0:00:01\n",
      "     ----------------------------             8.4/11.6 MB 6.8 MB/s eta 0:00:01\n",
      "     ----------------------------             8.4/11.6 MB 6.8 MB/s eta 0:00:01\n",
      "     ----------------------------             8.4/11.6 MB 6.8 MB/s eta 0:00:01\n",
      "     ----------------------------             8.4/11.6 MB 6.8 MB/s eta 0:00:01\n",
      "     --------------------------------         9.4/11.6 MB 6.6 MB/s eta 0:00:01\n",
      "     --------------------------------         9.4/11.6 MB 6.6 MB/s eta 0:00:01\n",
      "     --------------------------------         9.4/11.6 MB 6.6 MB/s eta 0:00:01\n",
      "     ------------------------------------     10.5/11.6 MB 6.5 MB/s eta 0:00:01\n",
      "     ------------------------------------     10.5/11.6 MB 6.5 MB/s eta 0:00:01\n",
      "     ---------------------------------------  11.5/11.6 MB 6.5 MB/s eta 0:00:01\n",
      "     ---------------------------------------  11.5/11.6 MB 6.5 MB/s eta 0:00:01\n",
      "     ---------------------------------------  11.6/11.6 MB 6.2 MB/s eta 0:00:01\n",
      "     ---------------------------------------- 11.6/11.6 MB 6.0 MB/s eta 0:00:00\n",
      "Requirement already satisfied: psutil>=5.7.0 in c:\\users\\pichau\\anaconda3\\lib\\site-packages (from featuretools) (5.9.0)\n",
      "Requirement already satisfied: scipy>=1.10.0 in c:\\users\\pichau\\anaconda3\\lib\\site-packages (from featuretools) (1.10.1)\n",
      "Requirement already satisfied: tqdm>=4.32.0 in c:\\users\\pichau\\anaconda3\\lib\\site-packages (from featuretools) (4.65.0)\n",
      "Collecting woodwork>=0.28.0 (from featuretools)\n",
      "  Downloading woodwork-0.30.0-py3-none-any.whl (231 kB)\n",
      "                                              0.0/231.0 kB ? eta -:--:--\n",
      "     ---------------------------------------- 231.0/231.0 kB ? eta 0:00:00\n",
      "Requirement already satisfied: python-dateutil in c:\\users\\pichau\\anaconda3\\lib\\site-packages (from holidays>=0.17->featuretools) (2.8.2)\n",
      "Requirement already satisfied: pytz>=2020.1 in c:\\users\\pichau\\anaconda3\\lib\\site-packages (from pandas>=2.0.0->featuretools) (2022.7)\n",
      "Requirement already satisfied: tzdata>=2022.7 in c:\\users\\pichau\\anaconda3\\lib\\site-packages (from pandas>=2.0.0->featuretools) (2023.3)\n",
      "Requirement already satisfied: colorama in c:\\users\\pichau\\anaconda3\\lib\\site-packages (from tqdm>=4.32.0->featuretools) (0.4.6)\n",
      "Requirement already satisfied: scikit-learn>=1.1.0 in c:\\users\\pichau\\anaconda3\\lib\\site-packages (from woodwork>=0.28.0->featuretools) (1.2.2)\n",
      "Collecting importlib-resources>=5.10.0 (from woodwork>=0.28.0->featuretools)\n",
      "  Downloading importlib_resources-6.4.0-py3-none-any.whl (38 kB)\n",
      "Requirement already satisfied: zipp>=3.1.0 in c:\\users\\pichau\\anaconda3\\lib\\site-packages (from importlib-resources>=5.10.0->woodwork>=0.28.0->featuretools) (3.11.0)\n",
      "Requirement already satisfied: six>=1.5 in c:\\users\\pichau\\anaconda3\\lib\\site-packages (from python-dateutil->holidays>=0.17->featuretools) (1.16.0)\n",
      "Requirement already satisfied: joblib>=1.1.1 in c:\\users\\pichau\\anaconda3\\lib\\site-packages (from scikit-learn>=1.1.0->woodwork>=0.28.0->featuretools) (1.2.0)\n",
      "Requirement already satisfied: threadpoolctl>=2.0.0 in c:\\users\\pichau\\anaconda3\\lib\\site-packages (from scikit-learn>=1.1.0->woodwork>=0.28.0->featuretools) (2.2.0)\n",
      "Installing collected packages: numpy, importlib-resources, pandas, holidays, woodwork, featuretools\n",
      "  Attempting uninstall: numpy\n",
      "    Found existing installation: numpy 1.23.5\n",
      "    Uninstalling numpy-1.23.5:\n",
      "      Successfully uninstalled numpy-1.23.5\n"
     ]
    },
    {
     "name": "stderr",
     "output_type": "stream",
     "text": [
      "ERROR: Could not install packages due to an OSError: [WinError 5] Acesso negado: 'C:\\\\Users\\\\Pichau\\\\anaconda3\\\\Lib\\\\site-packages\\\\~umpy\\\\.libs\\\\libopenblas.FB5AE2TYXYH2IJRDKGDGQ3XBKLKTF43H.gfortran-win_amd64.dll'\n",
      "Consider using the `--user` option or check the permissions.\n",
      "\n"
     ]
    }
   ],
   "source": [
    "%pip install featuretools"
   ]
  },
  {
   "cell_type": "code",
   "execution_count": 51,
   "metadata": {},
   "outputs": [
    {
     "name": "stdout",
     "output_type": "stream",
     "text": [
      "Collecting pyjanitor\n",
      "  Downloading pyjanitor-0.27.0-py3-none-any.whl (177 kB)\n",
      "                                              0.0/177.4 kB ? eta -:--:--\n",
      "     -------------------------------------- 177.4/177.4 kB 5.4 MB/s eta 0:00:00\n",
      "Collecting natsort (from pyjanitor)\n",
      "  Downloading natsort-8.4.0-py3-none-any.whl (38 kB)\n",
      "Collecting pandas-flavor (from pyjanitor)\n",
      "  Downloading pandas_flavor-0.6.0-py3-none-any.whl (7.2 kB)\n",
      "Requirement already satisfied: multipledispatch in c:\\users\\pichau\\anaconda3\\lib\\site-packages (from pyjanitor) (0.6.0)\n",
      "Requirement already satisfied: scipy in c:\\users\\pichau\\anaconda3\\lib\\site-packages (from pyjanitor) (1.10.1)\n",
      "Requirement already satisfied: six in c:\\users\\pichau\\anaconda3\\lib\\site-packages (from multipledispatch->pyjanitor) (1.16.0)\n",
      "Requirement already satisfied: pandas>=0.23 in c:\\users\\pichau\\anaconda3\\lib\\site-packages (from pandas-flavor->pyjanitor) (1.5.3)\n",
      "Requirement already satisfied: xarray in c:\\users\\pichau\\anaconda3\\lib\\site-packages (from pandas-flavor->pyjanitor) (2022.11.0)\n",
      "Requirement already satisfied: numpy<1.27.0,>=1.19.5 in c:\\users\\pichau\\anaconda3\\lib\\site-packages (from scipy->pyjanitor) (1.26.4)\n",
      "Requirement already satisfied: python-dateutil>=2.8.1 in c:\\users\\pichau\\anaconda3\\lib\\site-packages (from pandas>=0.23->pandas-flavor->pyjanitor) (2.8.2)\n",
      "Requirement already satisfied: pytz>=2020.1 in c:\\users\\pichau\\anaconda3\\lib\\site-packages (from pandas>=0.23->pandas-flavor->pyjanitor) (2022.7)\n",
      "Requirement already satisfied: packaging>=21.0 in c:\\users\\pichau\\anaconda3\\lib\\site-packages (from xarray->pandas-flavor->pyjanitor) (23.0)\n",
      "Installing collected packages: natsort, pandas-flavor, pyjanitor\n",
      "Successfully installed natsort-8.4.0 pandas-flavor-0.6.0 pyjanitor-0.27.0\n",
      "Note: you may need to restart the kernel to use updated packages.\n"
     ]
    }
   ],
   "source": [
    "%pip install pyjanitor"
   ]
  },
  {
   "cell_type": "code",
   "execution_count": 54,
   "metadata": {},
   "outputs": [
    {
     "name": "stdout",
     "output_type": "stream",
     "text": [
      "Collecting umap-learn\n",
      "  Downloading umap_learn-0.5.6-py3-none-any.whl (85 kB)\n",
      "                                              0.0/85.7 kB ? eta -:--:--\n",
      "     ---------------------------------------- 85.7/85.7 kB 4.7 MB/s eta 0:00:00\n",
      "Requirement already satisfied: numpy>=1.17 in c:\\users\\pichau\\anaconda3\\lib\\site-packages (from umap-learn) (1.26.4)\n",
      "Requirement already satisfied: scipy>=1.3.1 in c:\\users\\pichau\\anaconda3\\lib\\site-packages (from umap-learn) (1.10.1)\n",
      "Requirement already satisfied: scikit-learn>=0.22 in c:\\users\\pichau\\anaconda3\\lib\\site-packages (from umap-learn) (1.2.2)\n",
      "Requirement already satisfied: numba>=0.51.2 in c:\\users\\pichau\\anaconda3\\lib\\site-packages (from umap-learn) (0.57.0)\n",
      "Collecting pynndescent>=0.5 (from umap-learn)\n",
      "  Downloading pynndescent-0.5.12-py3-none-any.whl (56 kB)\n",
      "                                              0.0/56.8 kB ? eta -:--:--\n",
      "     ---------------------------------------- 56.8/56.8 kB ? eta 0:00:00\n",
      "Requirement already satisfied: tqdm in c:\\users\\pichau\\anaconda3\\lib\\site-packages (from umap-learn) (4.65.0)\n",
      "Requirement already satisfied: llvmlite<0.41,>=0.40.0dev0 in c:\\users\\pichau\\anaconda3\\lib\\site-packages (from numba>=0.51.2->umap-learn) (0.40.0)\n",
      "Collecting numpy>=1.17 (from umap-learn)\n",
      "  Downloading numpy-1.24.4-cp39-cp39-win_amd64.whl (14.9 MB)\n",
      "                                              0.0/14.9 MB ? eta -:--:--\n",
      "     ----                                     1.6/14.9 MB 51.9 MB/s eta 0:00:01\n",
      "     ---------                                3.6/14.9 MB 45.4 MB/s eta 0:00:01\n",
      "     ------------------                       7.0/14.9 MB 55.5 MB/s eta 0:00:01\n",
      "     ------------------------------          11.4/14.9 MB 73.1 MB/s eta 0:00:01\n",
      "     --------------------------------------  14.9/14.9 MB 93.0 MB/s eta 0:00:01\n",
      "     --------------------------------------  14.9/14.9 MB 93.0 MB/s eta 0:00:01\n",
      "     --------------------------------------- 14.9/14.9 MB 54.4 MB/s eta 0:00:00\n",
      "Requirement already satisfied: joblib>=0.11 in c:\\users\\pichau\\anaconda3\\lib\\site-packages (from pynndescent>=0.5->umap-learn) (1.2.0)\n",
      "Requirement already satisfied: threadpoolctl>=2.0.0 in c:\\users\\pichau\\anaconda3\\lib\\site-packages (from scikit-learn>=0.22->umap-learn) (2.2.0)\n",
      "Requirement already satisfied: colorama in c:\\users\\pichau\\anaconda3\\lib\\site-packages (from tqdm->umap-learn) (0.4.6)\n",
      "Installing collected packages: numpy, pynndescent, umap-learn\n",
      "  Attempting uninstall: numpy\n",
      "    Found existing installation: numpy 1.26.4\n",
      "    Uninstalling numpy-1.26.4:\n",
      "      Successfully uninstalled numpy-1.26.4\n",
      "Successfully installed numpy-1.24.4 pynndescent-0.5.12 umap-learn-0.5.6\n",
      "Note: you may need to restart the kernel to use updated packages.\n"
     ]
    },
    {
     "name": "stderr",
     "output_type": "stream",
     "text": [
      "ERROR: pip's dependency resolver does not currently take into account all the packages that are installed. This behaviour is the source of the following dependency conflicts.\n",
      "tables 3.8.0 requires blosc2~=2.0.0, which is not installed.\n",
      "pyldavis 3.4.1 requires pandas>=2.0.0, but you have pandas 1.5.3 which is incompatible.\n",
      "pycaret 3.0.3 requires numpy<1.24,>=1.21, but you have numpy 1.24.4 which is incompatible.\n",
      "torchvision 0.17.2 requires torch==2.2.2, but you have torch 2.0.1 which is incompatible.\n",
      "ydata-profiling 4.6.3 requires pydantic>=2, but you have pydantic 1.10.15 which is incompatible.\n"
     ]
    }
   ],
   "source": [
    "%pip install umap-learn"
   ]
  },
  {
   "cell_type": "markdown",
   "metadata": {},
   "source": [
    "### **Instalações Concluídas**"
   ]
  },
  {
   "cell_type": "markdown",
   "metadata": {},
   "source": [
    "## **Importando Bibliotecas para o Projeto**"
   ]
  },
  {
   "cell_type": "code",
   "execution_count": 39,
   "metadata": {},
   "outputs": [],
   "source": [
    "import pandas   \n",
    "import numpy      \n",
    "import matplotlib\n",
    "import umap\n",
    "import dtreeviz\n",
    "import janitor\n",
    "import fastai     \n",
    "import missingno     \n",
    "import pandas_profiling\n",
    "import catboost \n",
    "import xlrd\n",
    "import glmnet_py  \n",
    "import xgboost  \n",
    "import yellowbrick    \n",
    "import treeinterpreter \n",
    "import statsmodels    \n",
    "import sklearn   \n",
    "import shap   \n",
    "import seaborn    \n",
    "import scipy   \n",
    "import scikitplot   \n",
    "import phate         \n",
    "import mlxtend   \n",
    "import imblearn\n",
    "import graphviz  \n",
    "import category_encoders"
   ]
  },
  {
   "cell_type": "markdown",
   "metadata": {},
   "source": [
    "## **Verificando as Versões Usadas de cada Biblioteca**"
   ]
  },
  {
   "cell_type": "code",
   "execution_count": 42,
   "metadata": {},
   "outputs": [
    {
     "name": "stdout",
     "output_type": "stream",
     "text": [
      "pandas 1.5.3\n",
      "numpy 1.24.4\n",
      "matplotlib 3.7.1\n",
      "janitor 0.27.0\n",
      "umap 0.5.6\n",
      "dtreeviz 2.2.2\n",
      "fastai 2.7.14\n",
      "missingno 0.5.2\n",
      "xlrd 2.0.1\n",
      "pandas_profiling 3.6.6\n",
      "catboost 1.2.3\n",
      "Missing glmnet_py\n",
      "xgboost 1.7.6\n",
      "yellowbrick 1.5\n",
      "treeinterpreter 0.1.0\n",
      "statsmodels 0.13.5\n",
      "sklearn 1.2.2\n",
      "shap 0.45.0\n",
      "seaborn 0.12.2\n",
      "scipy 1.10.1\n",
      "scikitplot 0.3.7\n",
      "phate 1.0.11\n",
      "mlxtend 0.23.1\n",
      "imblearn 0.10.1\n",
      "graphviz 0.20.3\n",
      "category_encoders 2.6.1\n"
     ]
    }
   ],
   "source": [
    "for lib in [\n",
    " pandas,  \n",
    " numpy,\n",
    " matplotlib,\n",
    " janitor,\n",
    " umap,\n",
    " dtreeviz,\n",
    " fastai,     \n",
    " missingno,     \n",
    " xlrd,\n",
    " pandas_profiling,\n",
    " catboost, \n",
    " glmnet_py,  \n",
    " xgboost,  \n",
    " yellowbrick,    \n",
    " treeinterpreter, \n",
    " statsmodels,    \n",
    " sklearn,   \n",
    " shap,   \n",
    " seaborn,    \n",
    " scipy,   \n",
    " scikitplot,   \n",
    " phate,         \n",
    " mlxtend, \n",
    " imblearn,\n",
    " graphviz,  \n",
    " category_encoders] : \n",
    "\n",
    "    try : \n",
    "        print(lib.__name__, lib.__version__)\n",
    "    except : \n",
    "        print(\"Missing\", lib.__name__)"
   ]
  },
  {
   "cell_type": "markdown",
   "metadata": {},
   "source": [
    "## ***Pandas - A Biblioteca Pandas nos fornece as ferramentas para facilitar a manipulação dos dados.***\n",
    "## ***Scikit-Learn - A Biblioteca Scikit-Learn faz uma ótima modelagem preditiva.***\n",
    "## ***Yellow Brick - O Yellow Brick é uma Biblioteca de Visualização para Avaliação de Modelos.***\n",
    "## ***Matplotlib - O Matplotlib é uma Biblioteca de Visualização de Dados para Gráficos Analíticos e Análises de Dados.***"
   ]
  },
  {
   "cell_type": "markdown",
   "metadata": {},
   "source": [
    "## **Importandos as Bibliotecas acima e suas sub categorias**"
   ]
  },
  {
   "cell_type": "code",
   "execution_count": 43,
   "metadata": {},
   "outputs": [],
   "source": [
    "from sklearn import (ensemble, preprocessing, tree, model_selection)\n",
    "\n",
    "from sklearn.metrics import (auc, confusion_matrix, roc_auc_score, roc_curve)\n",
    "\n",
    "from sklearn.model_selection import (train_test_split, StratifiedKFold)\n",
    "\n",
    "from yellowbrick.classifier import (ConfusionMatrix, ROCAUC)\n",
    "\n",
    "from yellowbrick.model_selection import (LearningCurve)\n",
    "\n",
    "import matplotlib.pyplot as plt \n",
    "import pandas as pd"
   ]
  },
  {
   "cell_type": "markdown",
   "metadata": {},
   "source": [
    "### ***Termos para os Dados***\n",
    "#### **De forma geral, fazemos treinamento de um modelo com uma Matriz de Dados, iremos usar DataFrames do Pandas porque é muito conveniente ter nomes para as colunas, mas os arrays Numpy também servirão. Pra uma aprendizagem supervisionada, como uma Regressão ou Classficação, a intenção é ter uma função que transforme atributos em um rótulo.**"
   ]
  },
  {
   "cell_type": "markdown",
   "metadata": {},
   "source": [
    "## ***Coleta de Dados***"
   ]
  },
  {
   "cell_type": "markdown",
   "metadata": {},
   "source": [
    "### **Carregando um Arquivo Excel com os atributos das amostras do Titanic. Esse Arquivo contém várias colunas, incluindo uma coluna relacionada a sobrevivencia, com um rotulo informando o que aconteceu com o individuo.**"
   ]
  },
  {
   "cell_type": "code",
   "execution_count": 44,
   "metadata": {},
   "outputs": [],
   "source": [
    "df = pd.read_excel(\"titanic3.xls\")\n",
    "\n",
    "orig_df = df"
   ]
  },
  {
   "cell_type": "markdown",
   "metadata": {},
   "source": [
    "### **Visualizando o Arquivo Brevemente**"
   ]
  },
  {
   "cell_type": "code",
   "execution_count": 45,
   "metadata": {},
   "outputs": [
    {
     "data": {
      "text/html": [
       "<div>\n",
       "<style scoped>\n",
       "    .dataframe tbody tr th:only-of-type {\n",
       "        vertical-align: middle;\n",
       "    }\n",
       "\n",
       "    .dataframe tbody tr th {\n",
       "        vertical-align: top;\n",
       "    }\n",
       "\n",
       "    .dataframe thead th {\n",
       "        text-align: right;\n",
       "    }\n",
       "</style>\n",
       "<table border=\"1\" class=\"dataframe\">\n",
       "  <thead>\n",
       "    <tr style=\"text-align: right;\">\n",
       "      <th></th>\n",
       "      <th>pclass</th>\n",
       "      <th>survived</th>\n",
       "      <th>name</th>\n",
       "      <th>sex</th>\n",
       "      <th>age</th>\n",
       "      <th>sibsp</th>\n",
       "      <th>parch</th>\n",
       "      <th>ticket</th>\n",
       "      <th>fare</th>\n",
       "      <th>cabin</th>\n",
       "      <th>embarked</th>\n",
       "      <th>boat</th>\n",
       "      <th>body</th>\n",
       "      <th>home.dest</th>\n",
       "    </tr>\n",
       "  </thead>\n",
       "  <tbody>\n",
       "    <tr>\n",
       "      <th>0</th>\n",
       "      <td>1</td>\n",
       "      <td>1</td>\n",
       "      <td>Allen, Miss. Elisabeth Walton</td>\n",
       "      <td>female</td>\n",
       "      <td>29.0000</td>\n",
       "      <td>0</td>\n",
       "      <td>0</td>\n",
       "      <td>24160</td>\n",
       "      <td>211.3375</td>\n",
       "      <td>B5</td>\n",
       "      <td>S</td>\n",
       "      <td>2</td>\n",
       "      <td>NaN</td>\n",
       "      <td>St Louis, MO</td>\n",
       "    </tr>\n",
       "    <tr>\n",
       "      <th>1</th>\n",
       "      <td>1</td>\n",
       "      <td>1</td>\n",
       "      <td>Allison, Master. Hudson Trevor</td>\n",
       "      <td>male</td>\n",
       "      <td>0.9167</td>\n",
       "      <td>1</td>\n",
       "      <td>2</td>\n",
       "      <td>113781</td>\n",
       "      <td>151.5500</td>\n",
       "      <td>C22 C26</td>\n",
       "      <td>S</td>\n",
       "      <td>11</td>\n",
       "      <td>NaN</td>\n",
       "      <td>Montreal, PQ / Chesterville, ON</td>\n",
       "    </tr>\n",
       "    <tr>\n",
       "      <th>2</th>\n",
       "      <td>1</td>\n",
       "      <td>0</td>\n",
       "      <td>Allison, Miss. Helen Loraine</td>\n",
       "      <td>female</td>\n",
       "      <td>2.0000</td>\n",
       "      <td>1</td>\n",
       "      <td>2</td>\n",
       "      <td>113781</td>\n",
       "      <td>151.5500</td>\n",
       "      <td>C22 C26</td>\n",
       "      <td>S</td>\n",
       "      <td>NaN</td>\n",
       "      <td>NaN</td>\n",
       "      <td>Montreal, PQ / Chesterville, ON</td>\n",
       "    </tr>\n",
       "    <tr>\n",
       "      <th>3</th>\n",
       "      <td>1</td>\n",
       "      <td>0</td>\n",
       "      <td>Allison, Mr. Hudson Joshua Creighton</td>\n",
       "      <td>male</td>\n",
       "      <td>30.0000</td>\n",
       "      <td>1</td>\n",
       "      <td>2</td>\n",
       "      <td>113781</td>\n",
       "      <td>151.5500</td>\n",
       "      <td>C22 C26</td>\n",
       "      <td>S</td>\n",
       "      <td>NaN</td>\n",
       "      <td>135.0</td>\n",
       "      <td>Montreal, PQ / Chesterville, ON</td>\n",
       "    </tr>\n",
       "    <tr>\n",
       "      <th>4</th>\n",
       "      <td>1</td>\n",
       "      <td>0</td>\n",
       "      <td>Allison, Mrs. Hudson J C (Bessie Waldo Daniels)</td>\n",
       "      <td>female</td>\n",
       "      <td>25.0000</td>\n",
       "      <td>1</td>\n",
       "      <td>2</td>\n",
       "      <td>113781</td>\n",
       "      <td>151.5500</td>\n",
       "      <td>C22 C26</td>\n",
       "      <td>S</td>\n",
       "      <td>NaN</td>\n",
       "      <td>NaN</td>\n",
       "      <td>Montreal, PQ / Chesterville, ON</td>\n",
       "    </tr>\n",
       "  </tbody>\n",
       "</table>\n",
       "</div>"
      ],
      "text/plain": [
       "   pclass  survived                                             name     sex  \\\n",
       "0       1         1                    Allen, Miss. Elisabeth Walton  female   \n",
       "1       1         1                   Allison, Master. Hudson Trevor    male   \n",
       "2       1         0                     Allison, Miss. Helen Loraine  female   \n",
       "3       1         0             Allison, Mr. Hudson Joshua Creighton    male   \n",
       "4       1         0  Allison, Mrs. Hudson J C (Bessie Waldo Daniels)  female   \n",
       "\n",
       "       age  sibsp  parch  ticket      fare    cabin embarked boat   body  \\\n",
       "0  29.0000      0      0   24160  211.3375       B5        S    2    NaN   \n",
       "1   0.9167      1      2  113781  151.5500  C22 C26        S   11    NaN   \n",
       "2   2.0000      1      2  113781  151.5500  C22 C26        S  NaN    NaN   \n",
       "3  30.0000      1      2  113781  151.5500  C22 C26        S  NaN  135.0   \n",
       "4  25.0000      1      2  113781  151.5500  C22 C26        S  NaN    NaN   \n",
       "\n",
       "                         home.dest  \n",
       "0                     St Louis, MO  \n",
       "1  Montreal, PQ / Chesterville, ON  \n",
       "2  Montreal, PQ / Chesterville, ON  \n",
       "3  Montreal, PQ / Chesterville, ON  \n",
       "4  Montreal, PQ / Chesterville, ON  "
      ]
     },
     "execution_count": 45,
     "metadata": {},
     "output_type": "execute_result"
    }
   ],
   "source": [
    "df.head(5)"
   ]
  },
  {
   "cell_type": "markdown",
   "metadata": {},
   "source": [
    "## **Tratamento de Dados**\n",
    "### **Através do Tratamento e Limpeza de Dados, devemos garantir que estejam em um formato que possamos usar para criar o Modelo.**\n",
    "### **A maioria dos Modelos do Scikit-Learn exige que nossos atributos sejam númericos (inteiros ou númericos de pontos flutuantes). Além disso, muitos modelos falham caso recebam valores ausentes (NaN no Pandas ou no Numpy). Alguns Modelos terão melhor desempenho se os dados estiverem ***Padronizados*** (têm um valor de média igual a 0 e um desvio-padrão igual 1)**"
   ]
  },
  {
   "cell_type": "markdown",
   "metadata": {},
   "source": [
    "### **Uma Limpeza de Dados pode ser um processo um pouco demorada. Ter acesso a um SME (Subject Matter Expert, ou Especialista no Assunto) que dê orientações sobre como lidar com dados discrepantes (outliers) ou ausentes poderá ajudar.**"
   ]
  },
  {
   "cell_type": "markdown",
   "metadata": {},
   "source": [
    "### **Analisando o Tipos de Dados de cada Coluna do Arquivo**"
   ]
  },
  {
   "cell_type": "code",
   "execution_count": 46,
   "metadata": {},
   "outputs": [
    {
     "data": {
      "text/plain": [
       "pclass         int64\n",
       "survived       int64\n",
       "name          object\n",
       "sex           object\n",
       "age          float64\n",
       "sibsp          int64\n",
       "parch          int64\n",
       "ticket        object\n",
       "fare         float64\n",
       "cabin         object\n",
       "embarked      object\n",
       "boat          object\n",
       "body         float64\n",
       "home.dest     object\n",
       "dtype: object"
      ]
     },
     "execution_count": 46,
     "metadata": {},
     "output_type": "execute_result"
    }
   ],
   "source": [
    "df.dtypes"
   ]
  },
  {
   "cell_type": "markdown",
   "metadata": {},
   "source": [
    "#### **Em geral , vemos os tipos int64, float64, datetime64[ns] ou object. São os tipos usados pelo Pandas para armazenar uma coluna de dados. Os tipos int64 e float64 são númericos. O tipo datetime64[ns] armazena dados de data e hora. O tipo object geralmente implica que o dado armazenado é uma string, embora possa ser uma combinação de string e outros tipos.**"
   ]
  },
  {
   "cell_type": "markdown",
   "metadata": {},
   "source": [
    "### **Utilizando o método .shape para verificar o número de linhas e colunas do DataSet.**"
   ]
  },
  {
   "cell_type": "code",
   "execution_count": 47,
   "metadata": {},
   "outputs": [
    {
     "name": "stdout",
     "output_type": "stream",
     "text": [
      "A quantidade de Colunas do DataSet é igual 14 e Linhas é igual a 1309.\n"
     ]
    }
   ],
   "source": [
    "print(f\"A quantidade de Colunas do DataSet é igual {df.shape[1]} e Linhas é igual a {df.shape[0]}.\")"
   ]
  },
  {
   "cell_type": "markdown",
   "metadata": {},
   "source": [
    "### **Usando o método .decribe para obter as estatísticas resumidas do DataSet, bem como para ver o contator de dados não nulos**"
   ]
  },
  {
   "cell_type": "code",
   "execution_count": 48,
   "metadata": {},
   "outputs": [
    {
     "data": {
      "text/html": [
       "<div>\n",
       "<style scoped>\n",
       "    .dataframe tbody tr th:only-of-type {\n",
       "        vertical-align: middle;\n",
       "    }\n",
       "\n",
       "    .dataframe tbody tr th {\n",
       "        vertical-align: top;\n",
       "    }\n",
       "\n",
       "    .dataframe thead th {\n",
       "        text-align: right;\n",
       "    }\n",
       "</style>\n",
       "<table border=\"1\" class=\"dataframe\">\n",
       "  <thead>\n",
       "    <tr style=\"text-align: right;\">\n",
       "      <th></th>\n",
       "      <th>pclass</th>\n",
       "      <th>survived</th>\n",
       "      <th>age</th>\n",
       "      <th>sibsp</th>\n",
       "      <th>parch</th>\n",
       "      <th>fare</th>\n",
       "      <th>body</th>\n",
       "    </tr>\n",
       "  </thead>\n",
       "  <tbody>\n",
       "    <tr>\n",
       "      <th>count</th>\n",
       "      <td>1309.000000</td>\n",
       "      <td>1309.000000</td>\n",
       "      <td>1046.000000</td>\n",
       "      <td>1309.000000</td>\n",
       "      <td>1309.000000</td>\n",
       "      <td>1308.000000</td>\n",
       "      <td>121.000000</td>\n",
       "    </tr>\n",
       "    <tr>\n",
       "      <th>mean</th>\n",
       "      <td>2.294882</td>\n",
       "      <td>0.381971</td>\n",
       "      <td>29.881135</td>\n",
       "      <td>0.498854</td>\n",
       "      <td>0.385027</td>\n",
       "      <td>33.295479</td>\n",
       "      <td>160.809917</td>\n",
       "    </tr>\n",
       "    <tr>\n",
       "      <th>std</th>\n",
       "      <td>0.837836</td>\n",
       "      <td>0.486055</td>\n",
       "      <td>14.413500</td>\n",
       "      <td>1.041658</td>\n",
       "      <td>0.865560</td>\n",
       "      <td>51.758668</td>\n",
       "      <td>97.696922</td>\n",
       "    </tr>\n",
       "    <tr>\n",
       "      <th>min</th>\n",
       "      <td>1.000000</td>\n",
       "      <td>0.000000</td>\n",
       "      <td>0.166700</td>\n",
       "      <td>0.000000</td>\n",
       "      <td>0.000000</td>\n",
       "      <td>0.000000</td>\n",
       "      <td>1.000000</td>\n",
       "    </tr>\n",
       "    <tr>\n",
       "      <th>25%</th>\n",
       "      <td>2.000000</td>\n",
       "      <td>0.000000</td>\n",
       "      <td>21.000000</td>\n",
       "      <td>0.000000</td>\n",
       "      <td>0.000000</td>\n",
       "      <td>7.895800</td>\n",
       "      <td>72.000000</td>\n",
       "    </tr>\n",
       "    <tr>\n",
       "      <th>50%</th>\n",
       "      <td>3.000000</td>\n",
       "      <td>0.000000</td>\n",
       "      <td>28.000000</td>\n",
       "      <td>0.000000</td>\n",
       "      <td>0.000000</td>\n",
       "      <td>14.454200</td>\n",
       "      <td>155.000000</td>\n",
       "    </tr>\n",
       "    <tr>\n",
       "      <th>75%</th>\n",
       "      <td>3.000000</td>\n",
       "      <td>1.000000</td>\n",
       "      <td>39.000000</td>\n",
       "      <td>1.000000</td>\n",
       "      <td>0.000000</td>\n",
       "      <td>31.275000</td>\n",
       "      <td>256.000000</td>\n",
       "    </tr>\n",
       "    <tr>\n",
       "      <th>max</th>\n",
       "      <td>3.000000</td>\n",
       "      <td>1.000000</td>\n",
       "      <td>80.000000</td>\n",
       "      <td>8.000000</td>\n",
       "      <td>9.000000</td>\n",
       "      <td>512.329200</td>\n",
       "      <td>328.000000</td>\n",
       "    </tr>\n",
       "  </tbody>\n",
       "</table>\n",
       "</div>"
      ],
      "text/plain": [
       "            pclass     survived          age        sibsp        parch  \\\n",
       "count  1309.000000  1309.000000  1046.000000  1309.000000  1309.000000   \n",
       "mean      2.294882     0.381971    29.881135     0.498854     0.385027   \n",
       "std       0.837836     0.486055    14.413500     1.041658     0.865560   \n",
       "min       1.000000     0.000000     0.166700     0.000000     0.000000   \n",
       "25%       2.000000     0.000000    21.000000     0.000000     0.000000   \n",
       "50%       3.000000     0.000000    28.000000     0.000000     0.000000   \n",
       "75%       3.000000     1.000000    39.000000     1.000000     0.000000   \n",
       "max       3.000000     1.000000    80.000000     8.000000     9.000000   \n",
       "\n",
       "              fare        body  \n",
       "count  1308.000000  121.000000  \n",
       "mean     33.295479  160.809917  \n",
       "std      51.758668   97.696922  \n",
       "min       0.000000    1.000000  \n",
       "25%       7.895800   72.000000  \n",
       "50%      14.454200  155.000000  \n",
       "75%      31.275000  256.000000  \n",
       "max     512.329200  328.000000  "
      ]
     },
     "execution_count": 48,
     "metadata": {},
     "output_type": "execute_result"
    }
   ],
   "source": [
    "df.describe()"
   ]
  },
  {
   "cell_type": "code",
   "execution_count": 49,
   "metadata": {},
   "outputs": [
    {
     "data": {
      "text/html": [
       "<div>\n",
       "<style scoped>\n",
       "    .dataframe tbody tr th:only-of-type {\n",
       "        vertical-align: middle;\n",
       "    }\n",
       "\n",
       "    .dataframe tbody tr th {\n",
       "        vertical-align: top;\n",
       "    }\n",
       "\n",
       "    .dataframe thead th {\n",
       "        text-align: right;\n",
       "    }\n",
       "</style>\n",
       "<table border=\"1\" class=\"dataframe\">\n",
       "  <thead>\n",
       "    <tr style=\"text-align: right;\">\n",
       "      <th></th>\n",
       "      <th>count</th>\n",
       "      <th>mean</th>\n",
       "      <th>std</th>\n",
       "      <th>min</th>\n",
       "      <th>25%</th>\n",
       "      <th>50%</th>\n",
       "      <th>75%</th>\n",
       "      <th>max</th>\n",
       "    </tr>\n",
       "  </thead>\n",
       "  <tbody>\n",
       "    <tr>\n",
       "      <th>pclass</th>\n",
       "      <td>1309.0</td>\n",
       "      <td>2.294882</td>\n",
       "      <td>0.837836</td>\n",
       "      <td>1.0000</td>\n",
       "      <td>2.0000</td>\n",
       "      <td>3.0000</td>\n",
       "      <td>3.000</td>\n",
       "      <td>3.0000</td>\n",
       "    </tr>\n",
       "    <tr>\n",
       "      <th>survived</th>\n",
       "      <td>1309.0</td>\n",
       "      <td>0.381971</td>\n",
       "      <td>0.486055</td>\n",
       "      <td>0.0000</td>\n",
       "      <td>0.0000</td>\n",
       "      <td>0.0000</td>\n",
       "      <td>1.000</td>\n",
       "      <td>1.0000</td>\n",
       "    </tr>\n",
       "    <tr>\n",
       "      <th>age</th>\n",
       "      <td>1046.0</td>\n",
       "      <td>29.881135</td>\n",
       "      <td>14.413500</td>\n",
       "      <td>0.1667</td>\n",
       "      <td>21.0000</td>\n",
       "      <td>28.0000</td>\n",
       "      <td>39.000</td>\n",
       "      <td>80.0000</td>\n",
       "    </tr>\n",
       "    <tr>\n",
       "      <th>sibsp</th>\n",
       "      <td>1309.0</td>\n",
       "      <td>0.498854</td>\n",
       "      <td>1.041658</td>\n",
       "      <td>0.0000</td>\n",
       "      <td>0.0000</td>\n",
       "      <td>0.0000</td>\n",
       "      <td>1.000</td>\n",
       "      <td>8.0000</td>\n",
       "    </tr>\n",
       "    <tr>\n",
       "      <th>parch</th>\n",
       "      <td>1309.0</td>\n",
       "      <td>0.385027</td>\n",
       "      <td>0.865560</td>\n",
       "      <td>0.0000</td>\n",
       "      <td>0.0000</td>\n",
       "      <td>0.0000</td>\n",
       "      <td>0.000</td>\n",
       "      <td>9.0000</td>\n",
       "    </tr>\n",
       "    <tr>\n",
       "      <th>fare</th>\n",
       "      <td>1308.0</td>\n",
       "      <td>33.295479</td>\n",
       "      <td>51.758668</td>\n",
       "      <td>0.0000</td>\n",
       "      <td>7.8958</td>\n",
       "      <td>14.4542</td>\n",
       "      <td>31.275</td>\n",
       "      <td>512.3292</td>\n",
       "    </tr>\n",
       "    <tr>\n",
       "      <th>body</th>\n",
       "      <td>121.0</td>\n",
       "      <td>160.809917</td>\n",
       "      <td>97.696922</td>\n",
       "      <td>1.0000</td>\n",
       "      <td>72.0000</td>\n",
       "      <td>155.0000</td>\n",
       "      <td>256.000</td>\n",
       "      <td>328.0000</td>\n",
       "    </tr>\n",
       "  </tbody>\n",
       "</table>\n",
       "</div>"
      ],
      "text/plain": [
       "           count        mean        std     min      25%       50%      75%  \\\n",
       "pclass    1309.0    2.294882   0.837836  1.0000   2.0000    3.0000    3.000   \n",
       "survived  1309.0    0.381971   0.486055  0.0000   0.0000    0.0000    1.000   \n",
       "age       1046.0   29.881135  14.413500  0.1667  21.0000   28.0000   39.000   \n",
       "sibsp     1309.0    0.498854   1.041658  0.0000   0.0000    0.0000    1.000   \n",
       "parch     1309.0    0.385027   0.865560  0.0000   0.0000    0.0000    0.000   \n",
       "fare      1308.0   33.295479  51.758668  0.0000   7.8958   14.4542   31.275   \n",
       "body       121.0  160.809917  97.696922  1.0000  72.0000  155.0000  256.000   \n",
       "\n",
       "               max  \n",
       "pclass      3.0000  \n",
       "survived    1.0000  \n",
       "age        80.0000  \n",
       "sibsp       8.0000  \n",
       "parch       9.0000  \n",
       "fare      512.3292  \n",
       "body      328.0000  "
      ]
     },
     "execution_count": 49,
     "metadata": {},
     "output_type": "execute_result"
    }
   ],
   "source": [
    "df.describe().T"
   ]
  },
  {
   "cell_type": "markdown",
   "metadata": {},
   "source": [
    "### **Verificando as estatísticas resumidas das duas primeiras colunas do DataSet**"
   ]
  },
  {
   "cell_type": "code",
   "execution_count": 50,
   "metadata": {},
   "outputs": [
    {
     "data": {
      "text/html": [
       "<div>\n",
       "<style scoped>\n",
       "    .dataframe tbody tr th:only-of-type {\n",
       "        vertical-align: middle;\n",
       "    }\n",
       "\n",
       "    .dataframe tbody tr th {\n",
       "        vertical-align: top;\n",
       "    }\n",
       "\n",
       "    .dataframe thead th {\n",
       "        text-align: right;\n",
       "    }\n",
       "</style>\n",
       "<table border=\"1\" class=\"dataframe\">\n",
       "  <thead>\n",
       "    <tr style=\"text-align: right;\">\n",
       "      <th></th>\n",
       "      <th>pclass</th>\n",
       "      <th>survived</th>\n",
       "    </tr>\n",
       "  </thead>\n",
       "  <tbody>\n",
       "    <tr>\n",
       "      <th>count</th>\n",
       "      <td>1309.000000</td>\n",
       "      <td>1309.000000</td>\n",
       "    </tr>\n",
       "    <tr>\n",
       "      <th>mean</th>\n",
       "      <td>2.294882</td>\n",
       "      <td>0.381971</td>\n",
       "    </tr>\n",
       "    <tr>\n",
       "      <th>std</th>\n",
       "      <td>0.837836</td>\n",
       "      <td>0.486055</td>\n",
       "    </tr>\n",
       "    <tr>\n",
       "      <th>min</th>\n",
       "      <td>1.000000</td>\n",
       "      <td>0.000000</td>\n",
       "    </tr>\n",
       "    <tr>\n",
       "      <th>25%</th>\n",
       "      <td>2.000000</td>\n",
       "      <td>0.000000</td>\n",
       "    </tr>\n",
       "    <tr>\n",
       "      <th>50%</th>\n",
       "      <td>3.000000</td>\n",
       "      <td>0.000000</td>\n",
       "    </tr>\n",
       "    <tr>\n",
       "      <th>75%</th>\n",
       "      <td>3.000000</td>\n",
       "      <td>1.000000</td>\n",
       "    </tr>\n",
       "    <tr>\n",
       "      <th>max</th>\n",
       "      <td>3.000000</td>\n",
       "      <td>1.000000</td>\n",
       "    </tr>\n",
       "  </tbody>\n",
       "</table>\n",
       "</div>"
      ],
      "text/plain": [
       "            pclass     survived\n",
       "count  1309.000000  1309.000000\n",
       "mean      2.294882     0.381971\n",
       "std       0.837836     0.486055\n",
       "min       1.000000     0.000000\n",
       "25%       2.000000     0.000000\n",
       "50%       3.000000     0.000000\n",
       "75%       3.000000     1.000000\n",
       "max       3.000000     1.000000"
      ]
     },
     "execution_count": 50,
     "metadata": {},
     "output_type": "execute_result"
    }
   ],
   "source": [
    "df.describe().iloc[:, :2]"
   ]
  },
  {
   "cell_type": "markdown",
   "metadata": {},
   "source": [
    "### **Verificando a Soma de Valores Ausentes em cada Coluna**"
   ]
  },
  {
   "cell_type": "code",
   "execution_count": 51,
   "metadata": {},
   "outputs": [
    {
     "data": {
      "text/plain": [
       "pclass          0\n",
       "survived        0\n",
       "name            0\n",
       "sex             0\n",
       "age           263\n",
       "sibsp           0\n",
       "parch           0\n",
       "ticket          0\n",
       "fare            1\n",
       "cabin        1014\n",
       "embarked        2\n",
       "boat          823\n",
       "body         1188\n",
       "home.dest     564\n",
       "dtype: int64"
      ]
     },
     "execution_count": 51,
     "metadata": {},
     "output_type": "execute_result"
    }
   ],
   "source": [
    "df.isnull().sum()"
   ]
  },
  {
   "cell_type": "markdown",
   "metadata": {},
   "source": [
    "### **Subtituindo o método .sum por .mean a fim de obter a porcentagem de valores nulos. Por padrão, chamar esses métodos frá com que a operação seja aplicada no eixo 0, que é o eixo do índice.**"
   ]
  },
  {
   "cell_type": "code",
   "execution_count": 52,
   "metadata": {},
   "outputs": [
    {
     "data": {
      "text/plain": [
       "0    1\n",
       "1    1\n",
       "2    2\n",
       "3    1\n",
       "4    2\n",
       "5    1\n",
       "6    1\n",
       "7    2\n",
       "8    1\n",
       "9    2\n",
       "dtype: int64"
      ]
     },
     "execution_count": 52,
     "metadata": {},
     "output_type": "execute_result"
    }
   ],
   "source": [
    "df.isnull().sum(axis=1).iloc[:10]"
   ]
  },
  {
   "cell_type": "markdown",
   "metadata": {},
   "source": [
    "### **Vamos analisar algumas das linhas com dados ausentes. Podemos criar um array de booleanos (uma série com True e False para informar se a linha contém dados ausentes) e usá-los para inspecionar as linhas com dados ausentes**"
   ]
  },
  {
   "cell_type": "code",
   "execution_count": 53,
   "metadata": {},
   "outputs": [],
   "source": [
    "mask = df.isnull().any(axis=1)"
   ]
  },
  {
   "cell_type": "code",
   "execution_count": 54,
   "metadata": {},
   "outputs": [
    {
     "data": {
      "text/plain": [
       "0    True\n",
       "1    True\n",
       "2    True\n",
       "3    True\n",
       "4    True\n",
       "dtype: bool"
      ]
     },
     "execution_count": 54,
     "metadata": {},
     "output_type": "execute_result"
    }
   ],
   "source": [
    "mask.head() # Linhas "
   ]
  },
  {
   "cell_type": "code",
   "execution_count": 55,
   "metadata": {},
   "outputs": [
    {
     "data": {
      "text/plain": [
       "0      NaN\n",
       "1      NaN\n",
       "2      NaN\n",
       "3    135.0\n",
       "4      NaN\n",
       "Name: body, dtype: float64"
      ]
     },
     "execution_count": 55,
     "metadata": {},
     "output_type": "execute_result"
    }
   ],
   "source": [
    "df[mask].body.head()"
   ]
  },
  {
   "cell_type": "markdown",
   "metadata": {},
   "source": [
    "### **Imputaremos dados aos valores ausentes (ou derivaremos valores para eles) para a coluna de idade mais tarde**"
   ]
  },
  {
   "cell_type": "markdown",
   "metadata": {},
   "source": [
    "### **As colunas com tipo object tendem a conter valores de categorias (mas podem também ser dados do tipo string com alta cardinalidade, ou uma mistura de tipos das colunas). Nas colunas do tipo object que acreditamos ser colunas de categorias, utilizaremos o método .value_counts para analisar os contadores dos valores**"
   ]
  },
  {
   "cell_type": "code",
   "execution_count": 56,
   "metadata": {},
   "outputs": [
    {
     "data": {
      "text/plain": [
       "male      843\n",
       "female    466\n",
       "Name: sex, dtype: int64"
      ]
     },
     "execution_count": 56,
     "metadata": {},
     "output_type": "execute_result"
    }
   ],
   "source": [
    "df.sex.value_counts(dropna=False)"
   ]
  },
  {
   "cell_type": "markdown",
   "metadata": {},
   "source": [
    "### **Utilizando o dropna=False para exibir também os contadores para NaN**"
   ]
  },
  {
   "cell_type": "code",
   "execution_count": 57,
   "metadata": {},
   "outputs": [
    {
     "data": {
      "text/plain": [
       "S      914\n",
       "C      270\n",
       "Q      123\n",
       "NaN      2\n",
       "Name: embarked, dtype: int64"
      ]
     },
     "execution_count": 57,
     "metadata": {},
     "output_type": "execute_result"
    }
   ],
   "source": [
    "df.embarked.value_counts(dropna=False)"
   ]
  },
  {
   "cell_type": "markdown",
   "metadata": {},
   "source": [
    "### ***Criando os Atributos***\n",
    "##### **Podemos descartar as colunas que não tenham nenhuma variação ou sinal. Não há atributos como esses no conjunto de dados do Titanic, mas, se houvesse uma coluna chamada \"é um ser humanno\" que contivesser o valor 1 para todas as amostras, essa coluna não estaria fornecendo nenhuma informação.**\n",
    "##### **Também queremos descartar as colunas que causem vazamento de informações acerca de o passageiro ter sobrevivido ou não.**"
   ]
  },
  {
   "cell_type": "code",
   "execution_count": 58,
   "metadata": {},
   "outputs": [],
   "source": [
    "name = df.name"
   ]
  },
  {
   "cell_type": "code",
   "execution_count": 59,
   "metadata": {},
   "outputs": [
    {
     "data": {
      "text/plain": [
       "0                      Allen, Miss. Elisabeth Walton\n",
       "1                     Allison, Master. Hudson Trevor\n",
       "2                       Allison, Miss. Helen Loraine\n",
       "3               Allison, Mr. Hudson Joshua Creighton\n",
       "4    Allison, Mrs. Hudson J C (Bessie Waldo Daniels)\n",
       "Name: name, dtype: object"
      ]
     },
     "execution_count": 59,
     "metadata": {},
     "output_type": "execute_result"
    }
   ],
   "source": [
    "name.head(5)"
   ]
  },
  {
   "cell_type": "code",
   "execution_count": 60,
   "metadata": {},
   "outputs": [],
   "source": [
    "df = df.drop(columns=[\"name\", \"ticket\", \"home.dest\", \"boat\", \"body\", \"cabin\"])"
   ]
  },
  {
   "cell_type": "markdown",
   "metadata": {},
   "source": [
    "#### **Criando colunas Dummy a partir das colunas  de string. Com isso, novas colunas serão criadas para sex (sexo) e embarked (local em que o passageiro embarcou). O Pandas tem uma função det_dummies convenientes para isso**"
   ]
  },
  {
   "cell_type": "code",
   "execution_count": 61,
   "metadata": {},
   "outputs": [],
   "source": [
    "df = pd.get_dummies(df)"
   ]
  },
  {
   "cell_type": "code",
   "execution_count": 62,
   "metadata": {},
   "outputs": [
    {
     "data": {
      "text/plain": [
       "Index(['pclass', 'survived', 'age', 'sibsp', 'parch', 'fare', 'sex_female',\n",
       "       'sex_male', 'embarked_C', 'embarked_Q', 'embarked_S'],\n",
       "      dtype='object')"
      ]
     },
     "execution_count": 62,
     "metadata": {},
     "output_type": "execute_result"
    }
   ],
   "source": [
    "df.columns"
   ]
  },
  {
   "cell_type": "markdown",
   "metadata": {},
   "source": [
    "#### **As colunas sex_male e sex_female estão inversamente correlacionadas de forma perfeita. Em geral, removemos qualquer coluna com uma correlação positiva ou negativa bem alta. A multicolinearidade pode causar impactos na interpretação da importância dos atributos e dos coeficientes em alguns modelos.**"
   ]
  },
  {
   "cell_type": "markdown",
   "metadata": {},
   "source": [
    "### **Removendo a coluna sex_male**"
   ]
  },
  {
   "cell_type": "code",
   "execution_count": 63,
   "metadata": {},
   "outputs": [],
   "source": [
    "df = df.drop(columns=\"sex_male\")"
   ]
  },
  {
   "cell_type": "markdown",
   "metadata": {},
   "source": [
    "#### **Uma alternativa, podemos adicionar um parâmetro drop_first=True a chamada de get_dummies**"
   ]
  },
  {
   "cell_type": "code",
   "execution_count": 64,
   "metadata": {},
   "outputs": [],
   "source": [
    "df = pd.get_dummies(df, drop_first=True)"
   ]
  },
  {
   "cell_type": "code",
   "execution_count": 65,
   "metadata": {},
   "outputs": [
    {
     "data": {
      "text/plain": [
       "Index(['pclass', 'survived', 'age', 'sibsp', 'parch', 'fare', 'sex_female',\n",
       "       'embarked_C', 'embarked_Q', 'embarked_S'],\n",
       "      dtype='object')"
      ]
     },
     "execution_count": 65,
     "metadata": {},
     "output_type": "execute_result"
    }
   ],
   "source": [
    "df.columns"
   ]
  },
  {
   "cell_type": "markdown",
   "metadata": {},
   "source": [
    "### **Criando um DataDrame (X) com os atributos e uma séria (y) com os rótulos. Poderiamos também usar arrays Numpy, mas, nesse caso, não teriamos nomes para as colunas**"
   ]
  },
  {
   "cell_type": "code",
   "execution_count": 66,
   "metadata": {},
   "outputs": [],
   "source": [
    "y = df.survived\n",
    "\n",
    "X = df.drop(columns=\"survived\")"
   ]
  },
  {
   "cell_type": "markdown",
   "metadata": {},
   "source": [
    "### **Podemos usar a biblioteca pyjanitor para substituir as duas linhas anteriores**"
   ]
  },
  {
   "cell_type": "code",
   "execution_count": 67,
   "metadata": {},
   "outputs": [
    {
     "name": "stderr",
     "output_type": "stream",
     "text": [
      "C:\\Users\\Pichau\\AppData\\Local\\Temp\\ipykernel_5924\\430829160.py:3: FutureWarning: get_features_targets() has moved. Please use ml.get_features_targets().\n",
      "c:\\Users\\Pichau\\anaconda3\\lib\\site-packages\\janitor\\utils.py:367: DeprecationWarning: target_columns is deprecated; use target_column_names\n"
     ]
    }
   ],
   "source": [
    "import janitor as jn    \n",
    "\n",
    "X, y = jn.get_features_targets(df, target_columns=\"survived\")"
   ]
  },
  {
   "cell_type": "markdown",
   "metadata": {},
   "source": [
    "## **Separando as Amostras**\n",
    "\n",
    "### ***Sempre devemos fazer treinamento e testes em dados distintos. Caso contrário, você não saberá realmente quão bem seu modelo poderá ser generalizado para dados que ainda não tenham sido vistos antes. Usaremos o Scikit-Learn para extrair 30% dos dados para testes (usamos random_state=42 para eliminar a aleatoriedade caso venhamos a comparar diferentes modelos)***"
   ]
  },
  {
   "cell_type": "code",
   "execution_count": 68,
   "metadata": {},
   "outputs": [],
   "source": [
    "\n",
    "X_train, X_test, y_train, y_test = model_selection.train_test_split(X, y , test_size=0.3, random_state=42)"
   ]
  },
  {
   "cell_type": "markdown",
   "metadata": {},
   "source": [
    "### **Fazendo Imputação de Dados**"
   ]
  },
  {
   "cell_type": "markdown",
   "metadata": {},
   "source": [
    "#### **A Coluna de Idade tem valores ausentes. Devemos imputar uma idade a partir dos valores numéricos. Imputaremos dados apenas no conjunto de treinamento, e então usar esse imputer para preencher os dados no conjunto de testes.**"
   ]
  },
  {
   "cell_type": "markdown",
   "metadata": {},
   "source": [
    "#### **A Classe IterativeImputer (que estava em fancyimpute, mas foi passada para o scikit-learn) não aceita o modo indutivo. Para usá-la, é necessário acrescentar uma importação experimental especial**"
   ]
  },
  {
   "cell_type": "code",
   "execution_count": 69,
   "metadata": {},
   "outputs": [
    {
     "name": "stderr",
     "output_type": "stream",
     "text": [
      "C:\\Users\\Pichau\\AppData\\Local\\Temp\\ipykernel_5924\\4134048634.py:10: DeprecationWarning: In a future version, `df.iloc[:, i] = newvals` will attempt to set the values inplace instead of always setting a new array. To retain the old behavior, use either `df[df.columns[i]] = newvals` or, if columns are non-unique, `df.isetitem(i, newvals)`\n",
      "C:\\Users\\Pichau\\AppData\\Local\\Temp\\ipykernel_5924\\4134048634.py:10: DeprecationWarning: In a future version, `df.iloc[:, i] = newvals` will attempt to set the values inplace instead of always setting a new array. To retain the old behavior, use either `df[df.columns[i]] = newvals` or, if columns are non-unique, `df.isetitem(i, newvals)`\n",
      "C:\\Users\\Pichau\\AppData\\Local\\Temp\\ipykernel_5924\\4134048634.py:10: DeprecationWarning: In a future version, `df.iloc[:, i] = newvals` will attempt to set the values inplace instead of always setting a new array. To retain the old behavior, use either `df[df.columns[i]] = newvals` or, if columns are non-unique, `df.isetitem(i, newvals)`\n",
      "C:\\Users\\Pichau\\AppData\\Local\\Temp\\ipykernel_5924\\4134048634.py:10: DeprecationWarning: In a future version, `df.iloc[:, i] = newvals` will attempt to set the values inplace instead of always setting a new array. To retain the old behavior, use either `df[df.columns[i]] = newvals` or, if columns are non-unique, `df.isetitem(i, newvals)`\n",
      "C:\\Users\\Pichau\\AppData\\Local\\Temp\\ipykernel_5924\\4134048634.py:12: DeprecationWarning: In a future version, `df.iloc[:, i] = newvals` will attempt to set the values inplace instead of always setting a new array. To retain the old behavior, use either `df[df.columns[i]] = newvals` or, if columns are non-unique, `df.isetitem(i, newvals)`\n",
      "C:\\Users\\Pichau\\AppData\\Local\\Temp\\ipykernel_5924\\4134048634.py:12: DeprecationWarning: In a future version, `df.iloc[:, i] = newvals` will attempt to set the values inplace instead of always setting a new array. To retain the old behavior, use either `df[df.columns[i]] = newvals` or, if columns are non-unique, `df.isetitem(i, newvals)`\n",
      "C:\\Users\\Pichau\\AppData\\Local\\Temp\\ipykernel_5924\\4134048634.py:12: DeprecationWarning: In a future version, `df.iloc[:, i] = newvals` will attempt to set the values inplace instead of always setting a new array. To retain the old behavior, use either `df[df.columns[i]] = newvals` or, if columns are non-unique, `df.isetitem(i, newvals)`\n",
      "C:\\Users\\Pichau\\AppData\\Local\\Temp\\ipykernel_5924\\4134048634.py:12: DeprecationWarning: In a future version, `df.iloc[:, i] = newvals` will attempt to set the values inplace instead of always setting a new array. To retain the old behavior, use either `df[df.columns[i]] = newvals` or, if columns are non-unique, `df.isetitem(i, newvals)`\n"
     ]
    }
   ],
   "source": [
    "from sklearn.experimental import (enable_iterative_imputer)\n",
    "\n",
    "from sklearn import impute\n",
    "\n",
    "num_cols = [\"pclass\", \"age\", \"sibsp\", \"parch\", \"fare\", \"sex_female\"]\n",
    "\n",
    "imputer = impute.IterativeImputer()\n",
    "imputed = imputer.fit_transform(X_train[num_cols])\n",
    "\n",
    "X_train.loc[:, num_cols] = imputed\n",
    "imputed = imputer.transform(X_test[num_cols])\n",
    "X_test.loc[:, num_cols] = imputed"
   ]
  },
  {
   "cell_type": "markdown",
   "metadata": {},
   "source": [
    "### **Se quisermos imputar valores usando a mediana, podemos utilizar a panas para isso**"
   ]
  },
  {
   "cell_type": "code",
   "execution_count": 70,
   "metadata": {},
   "outputs": [],
   "source": [
    "meds = X_train.median()\n",
    "\n",
    "X_train = X_train.fillna(meds)        \n",
    "\n",
    "X_test = X_test.fillna(meds)    "
   ]
  },
  {
   "cell_type": "markdown",
   "metadata": {},
   "source": [
    "## **Normalizando os Dados**"
   ]
  },
  {
   "cell_type": "markdown",
   "metadata": {},
   "source": [
    "### **Normalizar ou Pré-processar os dados ajudará muitos modeos a terem um melhor desempenho depois, particularmente, para aqueles que dependam de uma métrica de distância para determinar a semelhança.**"
   ]
  },
  {
   "cell_type": "markdown",
   "metadata": {},
   "source": [
    "### **Vamos Padronizar os Dados para o pré-processamento. Padronizar significa traduzir os dados de modo que tenham um valor de média igual a zero e um desvio-padrão igual a um. Desse modo, os modelos não tratarão as variaveis com escalas maiores como mais importantes que as variáveis com menos escala. Iremos colocar o resultado (array numpy) de volta em um DataFrame do pandas para facilitar a manipulação (emanter os nomes das colunas).**\n",
    "### **Em geral, também não padronizo colunas dummy, portanto elas serão ignoradas**"
   ]
  },
  {
   "cell_type": "code",
   "execution_count": 71,
   "metadata": {},
   "outputs": [],
   "source": [
    "cols = \"pclass,age,sibsp,fare\".split(\",\")\n",
    "sca = preprocessing.StandardScaler()"
   ]
  },
  {
   "cell_type": "code",
   "execution_count": 72,
   "metadata": {},
   "outputs": [
    {
     "ename": "ValueError",
     "evalue": "Shape of passed values is (916, 9), indices imply (916, 4)",
     "output_type": "error",
     "traceback": [
      "\u001b[1;31m---------------------------------------------------------------------------\u001b[0m",
      "\u001b[1;31mValueError\u001b[0m                                Traceback (most recent call last)",
      "Cell \u001b[1;32mIn[72], line 2\u001b[0m\n\u001b[0;32m      1\u001b[0m X_train \u001b[38;5;241m=\u001b[39m sca\u001b[38;5;241m.\u001b[39mfit_transform(X_train)\n\u001b[1;32m----> 2\u001b[0m X_train \u001b[38;5;241m=\u001b[39m \u001b[43mpd\u001b[49m\u001b[38;5;241;43m.\u001b[39;49m\u001b[43mDataFrame\u001b[49m\u001b[43m(\u001b[49m\u001b[43mX_train\u001b[49m\u001b[43m,\u001b[49m\u001b[43m \u001b[49m\u001b[43mcolumns\u001b[49m\u001b[38;5;241;43m=\u001b[39;49m\u001b[43mcols\u001b[49m\u001b[43m)\u001b[49m\n\u001b[0;32m      3\u001b[0m X_test \u001b[38;5;241m=\u001b[39m sca\u001b[38;5;241m.\u001b[39mtransform(X_test)\n\u001b[0;32m      4\u001b[0m X_test \u001b[38;5;241m=\u001b[39m pd\u001b[38;5;241m.\u001b[39mDataFrame(X_test, columns\u001b[38;5;241m=\u001b[39mcols)\n",
      "File \u001b[1;32mc:\\Users\\Pichau\\anaconda3\\lib\\site-packages\\pandas\\core\\frame.py:722\u001b[0m, in \u001b[0;36mDataFrame.__init__\u001b[1;34m(self, data, index, columns, dtype, copy)\u001b[0m\n\u001b[0;32m    712\u001b[0m         mgr \u001b[38;5;241m=\u001b[39m dict_to_mgr(\n\u001b[0;32m    713\u001b[0m             \u001b[38;5;66;03m# error: Item \"ndarray\" of \"Union[ndarray, Series, Index]\" has no\u001b[39;00m\n\u001b[0;32m    714\u001b[0m             \u001b[38;5;66;03m# attribute \"name\"\u001b[39;00m\n\u001b[1;32m   (...)\u001b[0m\n\u001b[0;32m    719\u001b[0m             typ\u001b[38;5;241m=\u001b[39mmanager,\n\u001b[0;32m    720\u001b[0m         )\n\u001b[0;32m    721\u001b[0m     \u001b[38;5;28;01melse\u001b[39;00m:\n\u001b[1;32m--> 722\u001b[0m         mgr \u001b[38;5;241m=\u001b[39m \u001b[43mndarray_to_mgr\u001b[49m\u001b[43m(\u001b[49m\n\u001b[0;32m    723\u001b[0m \u001b[43m            \u001b[49m\u001b[43mdata\u001b[49m\u001b[43m,\u001b[49m\n\u001b[0;32m    724\u001b[0m \u001b[43m            \u001b[49m\u001b[43mindex\u001b[49m\u001b[43m,\u001b[49m\n\u001b[0;32m    725\u001b[0m \u001b[43m            \u001b[49m\u001b[43mcolumns\u001b[49m\u001b[43m,\u001b[49m\n\u001b[0;32m    726\u001b[0m \u001b[43m            \u001b[49m\u001b[43mdtype\u001b[49m\u001b[38;5;241;43m=\u001b[39;49m\u001b[43mdtype\u001b[49m\u001b[43m,\u001b[49m\n\u001b[0;32m    727\u001b[0m \u001b[43m            \u001b[49m\u001b[43mcopy\u001b[49m\u001b[38;5;241;43m=\u001b[39;49m\u001b[43mcopy\u001b[49m\u001b[43m,\u001b[49m\n\u001b[0;32m    728\u001b[0m \u001b[43m            \u001b[49m\u001b[43mtyp\u001b[49m\u001b[38;5;241;43m=\u001b[39;49m\u001b[43mmanager\u001b[49m\u001b[43m,\u001b[49m\n\u001b[0;32m    729\u001b[0m \u001b[43m        \u001b[49m\u001b[43m)\u001b[49m\n\u001b[0;32m    731\u001b[0m \u001b[38;5;66;03m# For data is list-like, or Iterable (will consume into list)\u001b[39;00m\n\u001b[0;32m    732\u001b[0m \u001b[38;5;28;01melif\u001b[39;00m is_list_like(data):\n",
      "File \u001b[1;32mc:\\Users\\Pichau\\anaconda3\\lib\\site-packages\\pandas\\core\\internals\\construction.py:349\u001b[0m, in \u001b[0;36mndarray_to_mgr\u001b[1;34m(values, index, columns, dtype, copy, typ)\u001b[0m\n\u001b[0;32m    344\u001b[0m \u001b[38;5;66;03m# _prep_ndarraylike ensures that values.ndim == 2 at this point\u001b[39;00m\n\u001b[0;32m    345\u001b[0m index, columns \u001b[38;5;241m=\u001b[39m _get_axes(\n\u001b[0;32m    346\u001b[0m     values\u001b[38;5;241m.\u001b[39mshape[\u001b[38;5;241m0\u001b[39m], values\u001b[38;5;241m.\u001b[39mshape[\u001b[38;5;241m1\u001b[39m], index\u001b[38;5;241m=\u001b[39mindex, columns\u001b[38;5;241m=\u001b[39mcolumns\n\u001b[0;32m    347\u001b[0m )\n\u001b[1;32m--> 349\u001b[0m \u001b[43m_check_values_indices_shape_match\u001b[49m\u001b[43m(\u001b[49m\u001b[43mvalues\u001b[49m\u001b[43m,\u001b[49m\u001b[43m \u001b[49m\u001b[43mindex\u001b[49m\u001b[43m,\u001b[49m\u001b[43m \u001b[49m\u001b[43mcolumns\u001b[49m\u001b[43m)\u001b[49m\n\u001b[0;32m    351\u001b[0m \u001b[38;5;28;01mif\u001b[39;00m typ \u001b[38;5;241m==\u001b[39m \u001b[38;5;124m\"\u001b[39m\u001b[38;5;124marray\u001b[39m\u001b[38;5;124m\"\u001b[39m:\n\u001b[0;32m    353\u001b[0m     \u001b[38;5;28;01mif\u001b[39;00m \u001b[38;5;28missubclass\u001b[39m(values\u001b[38;5;241m.\u001b[39mdtype\u001b[38;5;241m.\u001b[39mtype, \u001b[38;5;28mstr\u001b[39m):\n",
      "File \u001b[1;32mc:\\Users\\Pichau\\anaconda3\\lib\\site-packages\\pandas\\core\\internals\\construction.py:420\u001b[0m, in \u001b[0;36m_check_values_indices_shape_match\u001b[1;34m(values, index, columns)\u001b[0m\n\u001b[0;32m    418\u001b[0m passed \u001b[38;5;241m=\u001b[39m values\u001b[38;5;241m.\u001b[39mshape\n\u001b[0;32m    419\u001b[0m implied \u001b[38;5;241m=\u001b[39m (\u001b[38;5;28mlen\u001b[39m(index), \u001b[38;5;28mlen\u001b[39m(columns))\n\u001b[1;32m--> 420\u001b[0m \u001b[38;5;28;01mraise\u001b[39;00m \u001b[38;5;167;01mValueError\u001b[39;00m(\u001b[38;5;124mf\u001b[39m\u001b[38;5;124m\"\u001b[39m\u001b[38;5;124mShape of passed values is \u001b[39m\u001b[38;5;132;01m{\u001b[39;00mpassed\u001b[38;5;132;01m}\u001b[39;00m\u001b[38;5;124m, indices imply \u001b[39m\u001b[38;5;132;01m{\u001b[39;00mimplied\u001b[38;5;132;01m}\u001b[39;00m\u001b[38;5;124m\"\u001b[39m)\n",
      "\u001b[1;31mValueError\u001b[0m: Shape of passed values is (916, 9), indices imply (916, 4)"
     ]
    }
   ],
   "source": [
    "X_train = sca.fit_transform(X_train)\n",
    "X_train = pd.DataFrame(X_train, columns=cols)\n",
    "X_test = sca.transform(X_test)\n",
    "X_test = pd.DataFrame(X_test, columns=cols)"
   ]
  }
 ],
 "metadata": {
  "kernelspec": {
   "display_name": "base",
   "language": "python",
   "name": "python3"
  },
  "language_info": {
   "codemirror_mode": {
    "name": "ipython",
    "version": 3
   },
   "file_extension": ".py",
   "mimetype": "text/x-python",
   "name": "python",
   "nbconvert_exporter": "python",
   "pygments_lexer": "ipython3",
   "version": "3.9.13"
  }
 },
 "nbformat": 4,
 "nbformat_minor": 2
}
